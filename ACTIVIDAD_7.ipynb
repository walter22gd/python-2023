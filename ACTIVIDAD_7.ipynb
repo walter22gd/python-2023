{
  "nbformat": 4,
  "nbformat_minor": 0,
  "metadata": {
    "colab": {
      "provenance": [],
      "include_colab_link": true
    },
    "kernelspec": {
      "name": "python3",
      "display_name": "Python 3"
    },
    "language_info": {
      "name": "python"
    }
  },
  "cells": [
    {
      "cell_type": "markdown",
      "metadata": {
        "id": "view-in-github",
        "colab_type": "text"
      },
      "source": [
        "<a href=\"https://colab.research.google.com/github/walter22gd/python-2023/blob/main/ACTIVIDAD_7.ipynb\" target=\"_parent\"><img src=\"https://colab.research.google.com/assets/colab-badge.svg\" alt=\"Open In Colab\"/></a>"
      ]
    },
    {
      "cell_type": "code",
      "execution_count": null,
      "metadata": {
        "id": "r0MesH8E8aQL"
      },
      "outputs": [],
      "source": [
        "#ACTIVIDAD 7\n",
        "import random\n",
        "from IPython.display import clear_output"
      ]
    },
    {
      "cell_type": "code",
      "source": [
        "def valida_num(msge,msgError2=\"INGRESA UN VALOR NUMERICO ENTERO\"):\n",
        "    while True:\n",
        "        try:\n",
        "            num = int(input(f\"{msge}\"))\n",
        "        except:\n",
        "            print (msgError2)\n",
        "            continue\n",
        "        else:\n",
        "            break\n",
        "    return num"
      ],
      "metadata": {
        "id": "7t3BunLC0f7F"
      },
      "execution_count": null,
      "outputs": []
    },
    {
      "cell_type": "code",
      "source": [
        "#1.-unción que utilice una lista con los nombres de tus mascotas, o artistas favoritos, (minimo 5, maximo 10) \n",
        "#imprimir las cadenas y la cantidad de caracteres de cada cadena.  \n",
        "def lista_mascotas():\n",
        "    clear_output()\n",
        "    print(\"LISTA DE MASCOTAS: \")\n",
        "    lista_mascotas = [\"Canela\",\"Toby\",\"Chiva\",\"Bota\",\"Cowi\",\"Romeo\"]\n",
        "    for i,cadena in enumerate(lista_mascotas):\n",
        "        print (f\" {[i]}{cadena} --> {len(cadena)} CARACTERES\")"
      ],
      "metadata": {
        "id": "xc8NLGgb-L9j"
      },
      "execution_count": null,
      "outputs": []
    },
    {
      "cell_type": "code",
      "source": [
        "#2.-Programa que utilice 2 funciones, \n",
        "#Función que genere y regrese una lista con 10 números aleatorios entre el 30 y 50 (no repetidos). \n",
        "#Función que reciba una lista , Imprimir la lista (Indice y Valor ) \n",
        "# Mandar llamar la función e imprimir toda la lista. \n",
        "\n",
        "def lista_aleatoria():\n",
        "    clear_output()\n",
        "    lista_random = []\n",
        "    while len(lista_random) < 10:\n",
        "        numero = random.randint(30, 50)\n",
        "        if numero not in lista_random:\n",
        "            lista_random.append(numero)\n",
        "    print(f\"Lista con aleatorios = {lista_random}\")\n",
        "    return lista_random\n",
        "def lista_indices():\n",
        "    clear_output()\n",
        "    print(\"LISTA CON INDICE Y VALOR\")\n",
        "    lista = []\n",
        "    tam = valida_num(\"Dime que tamaño deseas que tenga la lista:\")\n",
        "    for i in range(tam):\n",
        "        num = valida_num(f\"Dime el valor {i}: \")\n",
        "        lista.append(num)\n",
        "    print(\"Lista con indice y valores: \")\n",
        "    for indice, valor in enumerate(lista):\n",
        "        print(f\"[{indice}]: {valor}\")"
      ],
      "metadata": {
        "id": "RPLyrYdEPiaz"
      },
      "execution_count": null,
      "outputs": []
    },
    {
      "cell_type": "code",
      "source": [
        "#3.- función que reciba dos listas de números del mismo tamaño y calcule la suma de los elementos correspondientes de cada lista.\n",
        "def suma_listas_padre():\n",
        "    clear_output()\n",
        "    print(\"SUMA LISTAS\")\n",
        "    def suma_listas(lista1,lista2):\n",
        "        if len(lista1) != len(lista2):\n",
        "            print(\"Las listas tienen diferente tamaño, se utilizara la lista más pequeña\")\n",
        "            tam = min(len(lista1), len(lista2))\n",
        "        else:\n",
        "            tam = len(lista1)\n",
        "        \n",
        "        suma_listas = []\n",
        "        for i in range(tam):\n",
        "            suma = lista1[i] + lista2[i]\n",
        "            suma_listas.append(suma)\n",
        "        print(f\"Suma listas = {suma_listas}\")\n",
        "\n",
        "    lista1 = []\n",
        "    lista2 = []\n",
        " \n",
        "    tam_l1 = valida_num(\"Dime el tamaño para la lista 1: \")\n",
        "    for i in range(tam_l1):\n",
        "        num = valida_num(f\"[{i}].-Dime un numero entero: \")\n",
        "        lista1.append(num)\n",
        "    tam_l2 = valida_num(\"Dime el tamaño para la lista 2: \")\n",
        "    for i in range(tam_l2):\n",
        "        num = valida_num(f\"[{i}]Dime un numero entero: \")\n",
        "        lista2.append(num)\n",
        "    print(f\"Lista 1 : {lista1}\")\n",
        "    print(f\"Lista 2 : {lista2}\")\n",
        "    suma_listas(lista1,lista2)"
      ],
      "metadata": {
        "id": "y_dQi80yA6O1"
      },
      "execution_count": null,
      "outputs": []
    },
    {
      "cell_type": "code",
      "source": [
        "#4.-función llamada eliminar_duplicados que reciba una lista como parámetro y elimine los elementos duplicados\n",
        "def duplicados():\n",
        "    clear_output()\n",
        "    print(\"ELIMINAR DUPLICADOS DE UNA LISTA\")\n",
        "    def eliminar_duplicados(lista):\n",
        "        clear_output()\n",
        "        nueva_lista = []\n",
        "        for elemento in lista:\n",
        "            if elemento not in nueva_lista:\n",
        "                nueva_lista.append(elemento)\n",
        "        print(f\"Lista anterior = {lista}\")\n",
        "        print(f\"Nueva lista sin duplicados = {nueva_lista}\")\n",
        "\n",
        "    lista = []\n",
        "    tam_l = valida_num(\"Dime el tamaño para la lista: \")\n",
        "    for i in range(tam_l):\n",
        "        num = valida_num(f\"[{i}].-Dime un numero entero: \")\n",
        "        lista.append(num)\n",
        "    \n",
        "    eliminar_duplicados(lista)"
      ],
      "metadata": {
        "id": "OozIM5t3DWX4"
      },
      "execution_count": null,
      "outputs": []
    },
    {
      "cell_type": "code",
      "source": [
        "#5.- función que calcule la media y la mediana de una lista de números enteros.\n",
        "def media_mediana(): \n",
        "    clear_output()\n",
        "    print(\"MEDIA Y MEDIANA DE UNA LISTA\")   \n",
        "    def calcular_media_mediana(lista):\n",
        "        \n",
        "        tam = len(lista)\n",
        "        lista_ordenada = sorted(lista)\n",
        "        \n",
        "        media = sum(lista) / tam\n",
        "        \n",
        "        if tam%2 == 0:\n",
        "            mediana = (lista_ordenada[tam//2 - 1] + lista_ordenada[tam//2]) / 2\n",
        "        else:\n",
        "            mediana = lista_ordenada[tam//2]\n",
        "        print(f\"La media es: {media}\")\n",
        "        print(f\"La mediana es: {mediana}\")\n",
        "    lista = []\n",
        "    tam_l = valida_num(\"Dime el tamaño para la lista: \")\n",
        "    for i in range(tam_l):\n",
        "        num = valida_num(f\"[{i}].-Dime un numero entero: \")\n",
        "        lista.append(num)\n",
        "    print(f\"Lista = {lista}\")\n",
        "    calcular_media_mediana(lista)"
      ],
      "metadata": {
        "id": "7N5BLmkfIkHx"
      },
      "execution_count": null,
      "outputs": []
    },
    {
      "cell_type": "code",
      "source": [
        "#6.- Escribe una función que calcule la media móvil de una lista de números enteros\n",
        "def med_movil_padre():\n",
        "    clear_output()\n",
        "    print(\"MEDIA MOVIL\")\n",
        "    def media_movil(lista, n):\n",
        "        lista_medias = []\n",
        "        for i in range(len(lista) - n + 1):\n",
        "            suma = 0\n",
        "            print(f\"Sublista {i+1}: {lista[i:i+n:]}\")\n",
        "            suma = sum(lista[i:i+n:])\n",
        "            print(f\"Media movil de la sublista {i+1}: {suma/n} \")\n",
        "            lista_medias.append(suma / n)\n",
        "        return lista_medias\n",
        "    lista = []\n",
        "    tam_l = valida_num(\"Dime el tamaño para la lista: \")\n",
        "    for i in range(tam_l):\n",
        "        num = valida_num(f\"[{i}].-Dime un numero entero: \")\n",
        "        lista.append(num)\n",
        "    n = valida_num(\"Dime de cuantos elementos consecutivos deseas calcular la media movil: \")\n",
        "\n",
        "    \n",
        "    lista_medias = media_movil(lista, n)\n",
        "    print(f\"Lista media movil: {lista_medias}\")"
      ],
      "metadata": {
        "id": "IAQQAzoIPISx"
      },
      "execution_count": null,
      "outputs": []
    },
    {
      "cell_type": "code",
      "source": [
        "def menu():\n",
        "    print(\"MENU:\")\n",
        "    print(\"1.-LISTA MASCOTAS\")\n",
        "    print(\"2.-FUNCION LISTA CON NUMEROS ALEATORIOS Y FUNCION LISTA INDICE Y VALOR\")\n",
        "    print(\"3.-SUMA LISTAS\")\n",
        "    print(\"4.-ELIMINAR DUPLICADOS DE UNA LISTA\")\n",
        "    print(\"5.-MEDIA Y MEDIANA DE UNA LISTA\")\n",
        "    print(\"6.-MEDIA MOVIL DE UNA LISTA\")\n",
        "    print(\"0.-SALIR\")"
      ],
      "metadata": {
        "id": "_kJnANimSoYa"
      },
      "execution_count": null,
      "outputs": []
    },
    {
      "cell_type": "code",
      "source": [
        "def submenu_programas2():\n",
        "    while True:\n",
        "        clear_output()\n",
        "        print(\"SUBMENU\")\n",
        "        print(\"1.-LISTA CON NUMEROS ALEATORIOS\")\n",
        "        print(\"2.-LISTA QUE RECIBE UNA LISTA E IMPRIME INDICE Y VALOR\")\n",
        "        print(\"0.-SALIR AL MENU\")\n",
        "        op = valida_num(\"Dime la funcion que deseas utilizar: \")\n",
        "        if op == 1:\n",
        "            lista_aleatoria()\n",
        "            input(\"Presiona ENTER para borrar la pantalla\")\n",
        "            clear_output()\n",
        "            continue\n",
        "        elif op == 2:\n",
        "            lista_indices()\n",
        "            input(\"Presiona ENTER para borrar la pantalla\")\n",
        "            clear_output()\n",
        "        elif op == 0:\n",
        "            clear_output()\n",
        "            break"
      ],
      "metadata": {
        "id": "j6GZBtM5awGq"
      },
      "execution_count": null,
      "outputs": []
    },
    {
      "cell_type": "code",
      "source": [
        "#EJECUCION DE TODAS LAS FUNCIONES(MAIN)\n",
        "while True:\n",
        "    menu()\n",
        "    op = valida_num(\"Dime la funcion que deseas utilizar: \")\n",
        "    if op == 1:\n",
        "        lista_mascotas()\n",
        "        input(\"Presiona ENTER para borrar la pantalla\")\n",
        "        clear_output()\n",
        "        continue\n",
        "    elif op == 2:\n",
        "        submenu_programas2()\n",
        "        continue\n",
        "    elif op == 3:\n",
        "        suma_listas_padre()\n",
        "        input(\"Presiona ENTER para borrar la pantalla\")\n",
        "        clear_output()\n",
        "        continue\n",
        "    elif op == 4:\n",
        "        duplicados()\n",
        "        input(\"Presiona ENTER para borrar la pantalla\")\n",
        "        clear_output()\n",
        "    elif op == 5:\n",
        "        media_mediana()\n",
        "        input(\"Presiona ENTER para borrar la pantalla\")\n",
        "        clear_output()\n",
        "    elif op == 6:\n",
        "        med_movil_padre()\n",
        "        input(\"Presiona ENTER para borrar la pantalla\")\n",
        "        clear_output()\n",
        "    elif op == 0:\n",
        "        break"
      ],
      "metadata": {
        "colab": {
          "base_uri": "https://localhost:8080/"
        },
        "id": "vNaXrciwcJ_j",
        "outputId": "9317e50e-1e9a-433a-c82b-5fc3938c3ef1"
      },
      "execution_count": null,
      "outputs": [
        {
          "output_type": "stream",
          "name": "stdout",
          "text": [
            "MEDIA MOVIL\n",
            "Ingresa el tamaño para la lista: 5\n",
            "[0].-Ingresa un numero entero: 1\n",
            "[1].-Ingresa un numero entero: 2\n",
            "[2].-Ingresa un numero entero: 3\n",
            "[3].-Ingresa un numero entero: 4\n",
            "[4].-Ingresa un numero entero: 5\n",
            "Ingresa de cuantos elementos consecutivos deseas calcular la media movil: 2\n",
            "Sublista 1: [1, 2]\n",
            "Media movil de la sublista 1: 1.5 \n",
            "Sublista 2: [2, 3]\n",
            "Media movil de la sublista 2: 2.5 \n",
            "Sublista 3: [3, 4]\n",
            "Media movil de la sublista 3: 3.5 \n",
            "Sublista 4: [4, 5]\n",
            "Media movil de la sublista 4: 4.5 \n",
            "Lista media movil: [1.5, 2.5, 3.5, 4.5]\n"
          ]
        }
      ]
    }
  ]
}