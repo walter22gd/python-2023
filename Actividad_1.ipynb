{
  "nbformat": 4,
  "nbformat_minor": 0,
  "metadata": {
    "colab": {
      "provenance": [],
      "authorship_tag": "ABX9TyNO9QN+iGiD/EM3r0qrL21Q",
      "include_colab_link": true
    },
    "kernelspec": {
      "name": "python3",
      "display_name": "Python 3"
    },
    "language_info": {
      "name": "python"
    }
  },
  "cells": [
    {
      "cell_type": "markdown",
      "metadata": {
        "id": "view-in-github",
        "colab_type": "text"
      },
      "source": [
        "<a href=\"https://colab.research.google.com/github/walter22gd/python-2023/blob/main/Actividad_1.ipynb\" target=\"_parent\"><img src=\"https://colab.research.google.com/assets/colab-badge.svg\" alt=\"Open In Colab\"/></a>"
      ]
    },
    {
      "cell_type": "markdown",
      "source": [
        "\n",
        "# Actividad 1 de python"
      ],
      "metadata": {
        "id": "Lu7s7GMdrFUG"
      }
    },
    {
      "cell_type": "markdown",
      "source": [
        "### 1.- Programa en Python Mostrar un mensaje que diga “HOLA MUNDO” en un solo renglón usando 2 print."
      ],
      "metadata": {
        "id": "4IGeXzXrmHR-"
      }
    },
    {
      "cell_type": "code",
      "execution_count": 1,
      "metadata": {
        "colab": {
          "base_uri": "https://localhost:8080/"
        },
        "id": "42XbJlenkhIA",
        "outputId": "a628b829-4367-40b2-e810-ecf2e7187b05"
      },
      "outputs": [
        {
          "output_type": "stream",
          "name": "stdout",
          "text": [
            "HOLA MUNDO\n"
          ]
        }
      ],
      "source": [
        "print (\"HOLA \", end=\"\")\n",
        "print (\"MUNDO\")"
      ]
    },
    {
      "cell_type": "markdown",
      "source": [
        "### 2.- Programa en Python que lea 2 números, realizar la suma y desplegar la suma de los 2 números."
      ],
      "metadata": {
        "id": "_ne2CPPRnd3V"
      }
    },
    {
      "cell_type": "code",
      "source": [
        "numero1 = int(input(\"dime un número: \"))\n",
        "numero2 = int(input(f\"dime otro número: \"))\n",
        "print (f\"la suma de esos números es: {numero1 + numero2}.\")"
      ],
      "metadata": {
        "colab": {
          "base_uri": "https://localhost:8080/"
        },
        "id": "G7oydKQPnz1O",
        "outputId": "ce2faf7b-d5dd-46ad-a07d-4e4c16d6ebf1"
      },
      "execution_count": 2,
      "outputs": [
        {
          "output_type": "stream",
          "name": "stdout",
          "text": [
            "dime un número: 5\n",
            "dime otro número: 1\n",
            "la suma de esos números es: 6.\n"
          ]
        }
      ]
    },
    {
      "cell_type": "markdown",
      "source": [
        "### 3.- Programa en Python que lea 2 números y realice las 4 operaciones básicas."
      ],
      "metadata": {
        "id": "_cQ9qW78qp0o"
      }
    },
    {
      "cell_type": "code",
      "source": [
        "num1 = int(input(\"dime un número: \"))\n",
        "num2 = int(input(f\"dime otro número: \"))\n",
        "operacion = input(f\"suma, resta, multiplicación, división \")\n",
        "\n",
        "if operacion == \"suma\":\n",
        "  print (f\"{num1 + num2}\")\n",
        "elif operacion == \"resta\":\n",
        "  print (f\"{num1 - num2}\")\n",
        "elif operacion == \"multiplicación\":\n",
        "  print (f\"{num1 * num2}\")\n",
        "elif operacion == \"división\":\n",
        "  print (f\"{num1 / num2}\")"
      ],
      "metadata": {
        "colab": {
          "base_uri": "https://localhost:8080/"
        },
        "id": "wz-ASFrNrDP7",
        "outputId": "4520f1c1-d39d-4d41-f30b-a236eddf7d48"
      },
      "execution_count": 3,
      "outputs": [
        {
          "output_type": "stream",
          "name": "stdout",
          "text": [
            "dime un número: 4\n",
            "dime otro número: 8\n",
            "suma, resta, multiplicación, división resta\n",
            "-4\n"
          ]
        }
      ]
    },
    {
      "cell_type": "markdown",
      "source": [
        "### 4.- Programa en Python Que sirva para calcular el área de un triángulo."
      ],
      "metadata": {
        "id": "w4UsFzaC1Bfq"
      }
    },
    {
      "cell_type": "code",
      "source": [
        "\n",
        "base = int(input(\"dime la base: \"))\n",
        "altura = int(input(f\"dime la altura: \"))\n",
        "print (f\"el área del triángulo es: {base * altura / 2}\")"
      ],
      "metadata": {
        "colab": {
          "base_uri": "https://localhost:8080/"
        },
        "id": "fQTkBuWr1UeY",
        "outputId": "91dbb251-939f-41f7-a5ba-ae4256df522a"
      },
      "execution_count": 4,
      "outputs": [
        {
          "output_type": "stream",
          "name": "stdout",
          "text": [
            "dime la base: 2\n",
            "dime la altura: 7\n",
            "el área del triángulo es: 7.0\n"
          ]
        }
      ]
    },
    {
      "cell_type": "markdown",
      "source": [
        "### 5.- Programa en Python que lea una medida en centímetros y desplegar la misma medida pero convertida en pies y pulgadas."
      ],
      "metadata": {
        "id": "bruiVK-L3RqM"
      }
    },
    {
      "cell_type": "code",
      "source": [
        "centimetro = int(input(\"dime los centímetros a convertir: \"))\n",
        "print (f\"tus cm a pies son: {centimetro / 30.48}\")\n",
        "print (f\"tus cm a pulgadas son: {centimetro / 2.54}\")"
      ],
      "metadata": {
        "colab": {
          "base_uri": "https://localhost:8080/"
        },
        "id": "Lm8t5_Y13eqm",
        "outputId": "9fffc38d-7e9a-404b-b58b-163554a1816d"
      },
      "execution_count": 5,
      "outputs": [
        {
          "output_type": "stream",
          "name": "stdout",
          "text": [
            "dime los centímetros a convertir: 86\n",
            "tus cm a pies son: 2.8215223097112863\n",
            "tus cm a pulgadas son: 33.85826771653543\n"
          ]
        }
      ]
    },
    {
      "cell_type": "markdown",
      "source": [
        "### 6.- Programa en Python que lea una temperatura en grados centígrados y desplegarla en Grados Fahrenheit y grados kelvin."
      ],
      "metadata": {
        "id": "xLP2Xbb86d8Z"
      }
    },
    {
      "cell_type": "code",
      "source": [
        "grados_centigrados = int(input(\"dime los grados centígrados a convertir: \"))\n",
        "print (f\"en grados Fahrenheit son: {grados_centigrados * 9/5 + 32}\")\n",
        "print (f\"en grados Kelvin son: {grados_centigrados + 273.15}\")"
      ],
      "metadata": {
        "colab": {
          "base_uri": "https://localhost:8080/"
        },
        "id": "PaHcnOOi6pPL",
        "outputId": "8a3a098d-95e9-4b34-ffbf-acef4285bd9b"
      },
      "execution_count": 6,
      "outputs": [
        {
          "output_type": "stream",
          "name": "stdout",
          "text": [
            "dime los grados centígrados a convertir: 11\n",
            "en grados Fahrenheit son: 51.8\n",
            "en grados Kelvin son: 284.15\n"
          ]
        }
      ]
    },
    {
      "cell_type": "markdown",
      "source": [
        "### 7.- Programa en Python que lea 4 calificaciones de un alumno, desplegar el promedio del alumno."
      ],
      "metadata": {
        "id": "Uxs6nfzG74wp"
      }
    },
    {
      "cell_type": "code",
      "source": [
        "calif1 = int(input(\"dime tu calificación 1: \"))\n",
        "calif2 = int(input(f\"dime tu calificación 2: \"))\n",
        "calif3 = int(input(f\"dime tu calificación 3: \"))\n",
        "calif4 = int(input(f\"dime tu calificación 4: \"))\n",
        "print (f\"tu promedio es: {(calif1 + calif2 + calif3 + calif4) / 4}\")"
      ],
      "metadata": {
        "colab": {
          "base_uri": "https://localhost:8080/"
        },
        "id": "TwYOp4Tf8FTu",
        "outputId": "4d7b6bbf-50aa-4d04-de64-9b4aaff8a060"
      },
      "execution_count": 9,
      "outputs": [
        {
          "output_type": "stream",
          "name": "stdout",
          "text": [
            "dime tu calificación 1: 80\n",
            "dime tu calificación 2: 90\n",
            "dime tu calificación 3: 100\n",
            "dime tu calificación 4: 90\n",
            "tu promedio es: 90.0\n"
          ]
        }
      ]
    }
  ]
}