{
  "nbformat": 4,
  "nbformat_minor": 0,
  "metadata": {
    "colab": {
      "provenance": [],
      "authorship_tag": "ABX9TyPsGymjEYpZUy81GO8n6VF5",
      "include_colab_link": true
    },
    "kernelspec": {
      "name": "python3",
      "display_name": "Python 3"
    },
    "language_info": {
      "name": "python"
    }
  },
  "cells": [
    {
      "cell_type": "markdown",
      "metadata": {
        "id": "view-in-github",
        "colab_type": "text"
      },
      "source": [
        "<a href=\"https://colab.research.google.com/github/walter22gd/python-2023/blob/main/actividad3.ipynb\" target=\"_parent\"><img src=\"https://colab.research.google.com/assets/colab-badge.svg\" alt=\"Open In Colab\"/></a>"
      ]
    },
    {
      "cell_type": "markdown",
      "source": [
        "# Actividad 3 python"
      ],
      "metadata": {
        "id": "NJNld6RL5YLx"
      }
    },
    {
      "cell_type": "markdown",
      "source": [
        "### 1.- Algoritmo que lea 3 calificaciones calcule el promedio del alumno y desplegar:"
      ],
      "metadata": {
        "id": "wHX_ufPF5OVB"
      }
    },
    {
      "cell_type": "code",
      "execution_count": 9,
      "metadata": {
        "colab": {
          "base_uri": "https://localhost:8080/"
        },
        "id": "mDOjppYO5M5r",
        "outputId": "3bfe9580-b52f-4ecf-df81-4da6c6d7cc82"
      },
      "outputs": [
        {
          "output_type": "stream",
          "name": "stdout",
          "text": [
            "dime tu calificación: 0\n",
            "dime tu calificación: 0\n",
            "dime tu calificación: 0\n",
            "repetir\n"
          ]
        }
      ],
      "source": [
        "calif1 = int(input(\"dime tu calificación: \"))\n",
        "calif2 = int(input(\"dime tu calificación: \"))\n",
        "calif3 = int(input(\"dime tu calificación: \"))\n",
        "\n",
        "promedio = (calif1 + calif2 + calif3) / 3\n",
        "\n",
        "if promedio < 30:\n",
        "    print(\"repetir\")\n",
        "else:\n",
        "    if promedio < 60:\n",
        "        print(\"extraordinario\")\n",
        "    else:\n",
        "      if promedio < 70:\n",
        "          print(\"suficiente\")\n",
        "      else:\n",
        "        if promedio < 80:\n",
        "            print(\"regular\")\n",
        "        else:\n",
        "          if promedio < 90:\n",
        "              print(\"bien\")\n",
        "          else:\n",
        "            if promedio < 98:\n",
        "                print(\"muy bien\")\n",
        "            else:\n",
        "              if promedio <= 100:\n",
        "                  print(\"excelente\")\n",
        "              else:\n",
        "                if promedio > 100:\n",
        "                  print(\"ERROR\")"
      ]
    },
    {
      "cell_type": "markdown",
      "source": [
        "### 2.- Algoritmo que sirva para calcular el salario semanal de un trabajador donde se obtiene como dato de entrada las horas semanales trabajadas, el salario por hora."
      ],
      "metadata": {
        "id": "hxA7C0p6BEJC"
      }
    },
    {
      "cell_type": "code",
      "source": [
        "horas = int(input(\"dime tus horas trabajadas: \"))\n"
      ],
      "metadata": {
        "id": "Y_4_NnVnBMex"
      },
      "execution_count": null,
      "outputs": []
    }
  ]
}