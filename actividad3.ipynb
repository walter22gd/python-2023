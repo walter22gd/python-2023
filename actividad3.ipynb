{
  "nbformat": 4,
  "nbformat_minor": 0,
  "metadata": {
    "colab": {
      "provenance": [],
      "authorship_tag": "ABX9TyP1206bppFto6vFOCePWAa8",
      "include_colab_link": true
    },
    "kernelspec": {
      "name": "python3",
      "display_name": "Python 3"
    },
    "language_info": {
      "name": "python"
    }
  },
  "cells": [
    {
      "cell_type": "markdown",
      "metadata": {
        "id": "view-in-github",
        "colab_type": "text"
      },
      "source": [
        "<a href=\"https://colab.research.google.com/github/walter22gd/python-2023/blob/main/actividad3.ipynb\" target=\"_parent\"><img src=\"https://colab.research.google.com/assets/colab-badge.svg\" alt=\"Open In Colab\"/></a>"
      ]
    },
    {
      "cell_type": "markdown",
      "source": [
        "# Actividad 3 python"
      ],
      "metadata": {
        "id": "NJNld6RL5YLx"
      }
    },
    {
      "cell_type": "markdown",
      "source": [
        "### 1.- Algoritmo que lea 3 calificaciones calcule el promedio del alumno y desplegar:"
      ],
      "metadata": {
        "id": "wHX_ufPF5OVB"
      }
    },
    {
      "cell_type": "code",
      "execution_count": 13,
      "metadata": {
        "colab": {
          "base_uri": "https://localhost:8080/",
          "height": 0
        },
        "id": "mDOjppYO5M5r",
        "outputId": "64f1720c-ac3e-4e59-b1f1-43d5c01f1c6f"
      },
      "outputs": [
        {
          "output_type": "stream",
          "name": "stdout",
          "text": [
            "dime tu calificación: 80\n",
            "dime tu calificación: 96\n",
            "dime tu calificación: 100\n",
            "muy bien\n"
          ]
        }
      ],
      "source": [
        "calif1 = int(input(\"dime tu calificación: \"))\n",
        "calif2 = int(input(\"dime tu calificación: \"))\n",
        "calif3 = int(input(\"dime tu calificación: \"))\n",
        "\n",
        "promedio = (calif1 + calif2 + calif3) / 3\n",
        "\n",
        "if promedio < 30:\n",
        "    print(\"repetir\")\n",
        "else:\n",
        "    if promedio < 60:\n",
        "        print(\"extraordinario\")\n",
        "    else:\n",
        "      if promedio < 70:\n",
        "          print(\"suficiente\")\n",
        "      else:\n",
        "        if promedio < 80:\n",
        "            print(\"regular\")\n",
        "        else:\n",
        "          if promedio < 90:\n",
        "              print(\"bien\")\n",
        "          else:\n",
        "            if promedio < 98:\n",
        "                print(\"muy bien\")\n",
        "            else:\n",
        "              if promedio <= 100:\n",
        "                  print(\"excelente\")\n",
        "              else:\n",
        "                if promedio > 100:\n",
        "                  print(\"ERROR\")"
      ]
    },
    {
      "cell_type": "markdown",
      "source": [
        "### 2.- Algoritmo que sirva para calcular el salario semanal de un trabajador donde se obtiene como dato de entrada las horas semanales trabajadas, el salario por hora."
      ],
      "metadata": {
        "id": "hxA7C0p6BEJC"
      }
    },
    {
      "cell_type": "code",
      "source": [
        "horas = int(input(\"dime las horas que trabajaste en la semana: \"))\n",
        "salario_hora = float(input(\"dime tu salario por hora: \"))\n",
        "if horas > 40:\n",
        "    if horas > 49:\n",
        "        salario_norm = (salario_hora * 40)\n",
        "        salario_ext = ((salario_hora * 2) * 9) + ((salario_hora * 3) * (horas - 49))\n",
        "    else:\n",
        "        salario_norm = (salario_hora * 40)\n",
        "        salario_ext = ((salario_hora * 2) * (horas - 40))\n",
        "else:\n",
        "    salario_norm = (salario_hora * horas)\n",
        "    salario_ext = 0\n",
        "salario_tot = salario_norm + salario_ext\n",
        "print(f\"Salario x hora: {salario_hora} \")\n",
        "print(f\"Horas Trabajadas: {horas} \")\n",
        "print(f\"Salario normal: {salario_norm} \")\n",
        "print(f\"Salario extra: {salario_ext} \")\n",
        "print(f\"Salario total: {salario_tot} \")\n"
      ],
      "metadata": {
        "id": "Y_4_NnVnBMex",
        "outputId": "50540531-3c9e-4ebd-f208-cee827009a29",
        "colab": {
          "base_uri": "https://localhost:8080/",
          "height": 0
        }
      },
      "execution_count": 14,
      "outputs": [
        {
          "output_type": "stream",
          "name": "stdout",
          "text": [
            "dime las horas que trabajaste en la semana: 80\n",
            "dime tu salario por hora: 200\n",
            "Salario x hora: 200.0 \n",
            "Horas Trabajadas: 80 \n",
            "Salario normal: 8000.0 \n",
            "Salario extra: 22200.0 \n",
            "Salario total: 30200.0 \n"
          ]
        }
      ]
    },
    {
      "cell_type": "markdown",
      "source": [
        "### 3.- Algoritmo que sirva para desplegar el Total de una llamada telefónica donde se pide como datos de entrada los minutos y el tipo de llamada, se cobra de la siguiente manera:"
      ],
      "metadata": {
        "id": "ZZodiEAcXva0"
      }
    },
    {
      "cell_type": "code",
      "source": [
        "\n",
        "minutos = int(input(\"Dime la duración de llamada en minutos: \"))\n",
        "print (\"Tipos de llamada: \\n(1)Llamada locar\")\n",
        "print (\"(2)Llamada Nacional\\n(3)Llamada Internacional\")\n",
        "tipo = int(input(\"Ingrese el tipo de llamada: \"))\n",
        "if tipo == 1:\n",
        "    subtotal = 3\n",
        "elif tipo == 2:\n",
        "    if minutos > 3:\n",
        "        subtotal = ((minutos - 3) * 2) + 7\n",
        "    else:\n",
        "        subtotal = 7\n",
        "if tipo == 3:\n",
        "    if minutos > 2:\n",
        "        subtotal = ((minutos - 2) * 4) + 9\n",
        "    else:\n",
        "        subtotal = 9\n",
        "iva = subtotal * 0.16\n",
        "total = subtotal + iva\n",
        "print (f\"Su subtotal es: ${subtotal} \\niva: ${iva}\")\n",
        "print (f\"Su total es: ${total}\")"
      ],
      "metadata": {
        "id": "2dNDNPC4qHAP",
        "outputId": "79f298ea-8d7c-48e8-9602-6600db0fdb65",
        "colab": {
          "base_uri": "https://localhost:8080/",
          "height": 0
        }
      },
      "execution_count": 15,
      "outputs": [
        {
          "output_type": "stream",
          "name": "stdout",
          "text": [
            "Dime la duración de llamada en minutos: 3\n",
            "Tipos de llamada: \n",
            "(1)Llamada locar\n",
            "(2)Llamada Nacional\n",
            "(3)Llamada Internacional\n",
            "Ingrese el tipo de llamada: 1\n",
            "Su subtotal es: $3 \n",
            "iva: $0.48\n",
            "Su total es: $3.48\n"
          ]
        }
      ]
    },
    {
      "cell_type": "markdown",
      "source": [
        "### 4.- Algoritmo que sirva para calcular el Total a pagar por consumo de agua, donde el dato de entrada son los M3 de agua consumidos, Tomar en cuenta que se cobra escalonada de la Siguiente manera:"
      ],
      "metadata": {
        "id": "vIa8H3iVqHff"
      }
    },
    {
      "cell_type": "code",
      "source": [
        "\n",
        "consumo = int(input(\"dime cuantros metros cúbicos consumiste de agua: \"))\n",
        "if consumo > 4:\n",
        "    if consumo > 15:\n",
        "        if consumo > 50:\n",
        "            metrosextra = consumo - 50\n",
        "            subtotal = 50 +(11*8)+(35*10)+(metrosextra*11)\n",
        "        else:\n",
        "            metrosextra = consumo - 15\n",
        "            subtotal = 50 +(11*8)+(metrosextra*10)\n",
        "    else:\n",
        "        metrosextra = consumo - 4\n",
        "        subtotal = 50 + (metrosextra*8)\n",
        "else:\n",
        "    subtotal = 50\n",
        "iva = subtotal * 0.16\n",
        "total = subtotal + iva\n",
        "print(f\"Subtotal: {subtotal} \")\n",
        "print(f\"IVA(16%): {iva} \")\n",
        "print(f\"Total a pagar: {total} \")"
      ],
      "metadata": {
        "id": "54fociZkqL13",
        "outputId": "3a07cfa0-fb72-4c30-a93f-3f4ac30f507b",
        "colab": {
          "base_uri": "https://localhost:8080/",
          "height": 0
        }
      },
      "execution_count": 16,
      "outputs": [
        {
          "output_type": "stream",
          "name": "stdout",
          "text": [
            "dime cuantros metros cúbicos consumiste de agua: 3\n",
            "Subtotal: 50 \n",
            "IVA(16%): 8.0 \n",
            "Total a pagar: 58.0 \n"
          ]
        }
      ]
    },
    {
      "cell_type": "markdown",
      "source": [
        "### 5- En la materia de Metodología de la programación se aplican 5 exámenes, calcular el promedio final de la materia donde la calificación menor de los exámenes se anula y el promedio se calcula en base a 4 exámenes."
      ],
      "metadata": {
        "id": "lE7NHhyLqMOi"
      }
    },
    {
      "cell_type": "code",
      "source": [
        "examen1 = int(input(\"dime la calificación del primer examen: \"))\n",
        "examen2 = int(input(\"dime la calificación del segundo examen: \"))\n",
        "examen3 = int(input(\"dime la calificación del tercer examen: \"))\n",
        "examen4 = int(input(\"dime la calificación del cuarto examen: \"))\n",
        "examen5 = int(input(\"dime la calificación del quinto examen: \"))\n",
        "calmenor = examen1\n",
        "if examen2 < calmenor:\n",
        "    calmenor = examen2\n",
        "if examen3 < calmenor:\n",
        "    calmenor = examen3\n",
        "if examen4 < calmenor:\n",
        "    calmenor = examen4\n",
        "if examen5 < calmenor:\n",
        "    calmenor = examen5\n",
        "prom = (examen1 + examen2 + examen3 + examen4 + examen5 - calmenor) /4\n",
        "print (f\"Tu promedio final es: {prom}\")"
      ],
      "metadata": {
        "id": "lFwF8-1XqQt2",
        "outputId": "a3368867-fcbe-43bb-ebf0-bc114d47b497",
        "colab": {
          "base_uri": "https://localhost:8080/",
          "height": 0
        }
      },
      "execution_count": 17,
      "outputs": [
        {
          "output_type": "stream",
          "name": "stdout",
          "text": [
            "dime la calificación del primer examen: 100\n",
            "dime la calificación del segundo examen: 100\n",
            "dime la calificación del tercer examen: 90\n",
            "dime la calificación del cuarto examen: 97\n",
            "dime la calificación del quinto examen: 90\n",
            "Tu promedio final es: 96.75\n"
          ]
        }
      ]
    },
    {
      "cell_type": "markdown",
      "source": [
        "### 6.- Algoritmo que sirva para el juego del CHINCHAMPU (Piedra, Papel, Tijera) para 1 jugador y la computadora, (usar condición anidada) "
      ],
      "metadata": {
        "id": "ZyjX4J0PqRLb"
      }
    },
    {
      "cell_type": "code",
      "source": [
        "import random\n",
        "print(\"JUEGO DEL CHINCHAMPU\")\n",
        "print(\" 1.-Piedra \\n 2.-Papel \\n 3.-Tijeras\")\n",
        "jugadajg = int(input(\"Dime qué opción quieres: \"))\n",
        "jugadapc = random.randint(1,3)\n",
        "if jugadapc == 1:\n",
        "    print(\"La computadora escogió piedra\")\n",
        "else:\n",
        "    if jugadapc == 2:\n",
        "        print(\"La computadora escogió papel\")\n",
        "    else:\n",
        "        print(\"La computadora escogió tijeras\")\n",
        "\n",
        "if jugadajg == 1:\n",
        "    if jugadapc == 3:\n",
        "        print(\"¡Ganaste!\")\n",
        "    else:\n",
        "        if jugadapc == 2:\n",
        "            print(\"Gana la computadora\")\n",
        "        else:\n",
        "            print(\"Empate\")\n",
        "else:\n",
        "    if jugadajg == 2:\n",
        "        if jugadapc == 1:\n",
        "            print(\"¡Ganaste!\")\n",
        "        else:\n",
        "            if jugadapc == 3:\n",
        "                print(\"Gana la computadora\")\n",
        "            else:\n",
        "                print(\" Empate\")\n",
        "    else:\n",
        "        if jugadajg == 3:\n",
        "            if jugadapc == 2:\n",
        "                print(\"¡Ganaste!\")\n",
        "            else:\n",
        "                if jugadapc == 1:\n",
        "                    print(\"Gana la computadora\")\n",
        "                else:\n",
        "                    print(\"Empate\")\n",
        "        else:\n",
        "            print(\"Jugada no válida\")"
      ],
      "metadata": {
        "id": "B63k2zVPqUrx",
        "outputId": "8391100d-e148-4a6d-f29c-e6abbe5961a7",
        "colab": {
          "base_uri": "https://localhost:8080/",
          "height": 0
        }
      },
      "execution_count": 18,
      "outputs": [
        {
          "output_type": "stream",
          "name": "stdout",
          "text": [
            "JUEGO DEL CHINCHAMPU\n",
            " 1.-Piedra \n",
            " 2.-Papel \n",
            " 3.-Tijeras\n",
            "Dime qué opción quieres: 3\n",
            "La computadora escogió piedra\n",
            "Gana la computadora\n"
          ]
        }
      ]
    },
    {
      "cell_type": "markdown",
      "source": [
        "### 7.- Algoritmo que sirva para el juego del CHINCHAMPU (Piedra, Papel, Tijera) para 1 jugador y la computadora, (usar selección múltiple)"
      ],
      "metadata": {
        "id": "s6MG3w2_qVLA"
      }
    },
    {
      "cell_type": "code",
      "source": [
        "import random\n",
        "print(\"JUEGO DEL CHINCHAMPU\")\n",
        "print(\" 1.-Piedra \\n 2.-Papel \\n 3.-Tijeras\")\n",
        "jugadajg = int(input(\"Dime qué opción quieres: \"))\n",
        "jugadapc = random.randint(1,3)\n",
        "if jugadapc == 1:\n",
        "    print(\"La computadora escogió piedra\")\n",
        "    if jugadajg == 1:\n",
        "        print(\"Empate\")\n",
        "    elif jugadajg == 2:\n",
        "        print(\"¡Ganaste!\")\n",
        "    elif jugadajg == 3:\n",
        "        print(\"Gana la computadora\")\n",
        "    else:\n",
        "        print(\"Jugada no válida\")\n",
        "elif jugadapc == 2:\n",
        "    print(\"La computadora escogió papel\")\n",
        "    if jugadajg == 1:\n",
        "        print(\"Gana la computadora\")\n",
        "    elif jugadajg == 2:\n",
        "        print(\"Empate\")\n",
        "    elif jugadajg == 3:\n",
        "        print(\"¡Ganaste!\")\n",
        "    else:\n",
        "        print(\"Jugada no válida\")\n",
        "elif jugadapc == 3:\n",
        "    print(\"La computadora escogió tijeras\")\n",
        "    if jugadajg == 1:\n",
        "        print(\"¡Ganaste!\")\n",
        "    elif jugadajg == 2:\n",
        "        print(\"Gana la computadora\")\n",
        "    elif jugadajg == 3:\n",
        "        print(\"Empate\")\n",
        "    else:\n",
        "        print(\"Jugada no válida\")"
      ],
      "metadata": {
        "id": "c2XQ0AIpqY0K",
        "outputId": "b0d7fe52-67f0-4b30-a637-217e531c264c",
        "colab": {
          "base_uri": "https://localhost:8080/",
          "height": 0
        }
      },
      "execution_count": 19,
      "outputs": [
        {
          "output_type": "stream",
          "name": "stdout",
          "text": [
            "JUEGO DEL CHINCHAMPU\n",
            " 1.-Piedra \n",
            " 2.-Papel \n",
            " 3.-Tijeras\n",
            "Dime qué opción quieres: 3\n",
            "La computadora escogió tijeras\n",
            "Empate\n"
          ]
        }
      ]
    },
    {
      "cell_type": "markdown",
      "source": [
        "### 8.- Escribe un programa que calcule el precio a pagar por un cliente, tomando en cuenta los descuentos correspondientes."
      ],
      "metadata": {
        "id": "TDU342XJqZog"
      }
    },
    {
      "cell_type": "code",
      "source": [
        "print(\"PRODUCTOS: \\n 1.-computadora($3000) \\n 2.-impresora($1500) \\n 3.-televisión($1700)\")\n",
        "print(\" 4.-barra de sonido($900) \\n 5.-Consola de videojuegos($2700) \\n 6.-juego($200)\")\n",
        "computadora = 3000\n",
        "impresora = 1500\n",
        "television = 1700\n",
        "barra_son = 900\n",
        "consola = 2700\n",
        "juego = 200\n",
        "producto1 = int(input(\"Dime qué artículo deseas adquirir: \"))\n",
        "producto2 = int(input(\"Dime el número de otro artículo que deseas adquirir(si no ingresa 0): \"))\n",
        "if producto1 == 1:\n",
        "    precio1 = computadora\n",
        "elif producto1 == 2:\n",
        "    precio1 = impresora\n",
        "elif producto1 == 3:\n",
        "    precio1 = television\n",
        "elif producto1 == 4:\n",
        "    precio1 = barra_son\n",
        "elif producto1 == 5:\n",
        "    precio1 = consola\n",
        "elif producto1 == 6:\n",
        "    precio1 = juego\n",
        "\n",
        "if producto2 == 1:\n",
        "    precio2 = computadora\n",
        "elif producto2 == 2:\n",
        "    precio2 = impresora\n",
        "elif producto2 == 3:\n",
        "    precio2 = television\n",
        "elif producto2 == 4:\n",
        "    precio2 = barra_son\n",
        "elif producto2 == 5:\n",
        "    precio2 = consola\n",
        "elif producto2 == 6:\n",
        "    precio2 = juego\n",
        "elif producto2 == 0:\n",
        "    precio2 = 0\n",
        "if producto1 == 1 and producto2 == 2:\n",
        "    print(\"Tienes 5% de descuento en la computadora y 10% de descuento en la impresora\")\n",
        "    precio1 *= 0.95\n",
        "    precio2 *= 0.90\n",
        "elif producto1 == 3 and producto2 == 4:\n",
        "    print(\"Tienes 7% de descuento en la television y 15% en la barra de sonido\")\n",
        "    precio1 *= 0.93\n",
        "    precio2 *= 0.85\n",
        "elif producto1 == 5 and producto2 == 6:\n",
        "    print(\"Tienes 10% de descuento en la consola y 20% en el videojuego\")\n",
        "    precio1 *= 0.90\n",
        "    precio2 *= 0.80\n",
        "\n",
        "if producto1 == 2 and producto2 == 1:\n",
        "    print(\"Tienes 10% de descuento en la impresora y 5% en la computadora\")\n",
        "    precio2 *= 0.95\n",
        "    precio1 *= 0.90\n",
        "elif producto1 == 4 and producto2 == 3:\n",
        "    print(\"Tienes 15% de descuento en la barra de sonido y 7% en la television\")\n",
        "    precio2 *= 0.93\n",
        "    precio1 *= 0.85\n",
        "elif producto1 == 6 and producto2 == 5:\n",
        "    print(\"Tienes 20% de descuento en el videojuego y 10% en la consola\")\n",
        "    precio2 *= 0.90\n",
        "    precio1 *= 0.80\n",
        "total = precio1 + precio2\n",
        "print(f\"Total = {precio1} $ + {precio2} $\")\n",
        "print(f\"Total: {total} $\")"
      ],
      "metadata": {
        "id": "g0oHwChkqfwo",
        "outputId": "d811a559-b6d7-4a97-add6-39a28a3ddd26",
        "colab": {
          "base_uri": "https://localhost:8080/",
          "height": 0
        }
      },
      "execution_count": 10,
      "outputs": [
        {
          "output_type": "stream",
          "name": "stdout",
          "text": [
            "PRODUCTOS: \n",
            " 1.-computadora($3000) \n",
            " 2.-impresora($1500) \n",
            " 3.-televisión($1700)\n",
            " 4.-barra de sonido($900) \n",
            " 5.-Consola de videojuegos($2700) \n",
            " 6.-juego($200)\n",
            "Dime qué artículo deseas adquirir: 3\n",
            "Dime el número de otro artículo que deseas adquirir(si no ingresa 0): 4\n",
            "Tienes 7% de descuento en la television y 15% en la barra de sonido\n",
            "Total = 1581.0 $ + 765.0 $\n",
            "Total: 2346.0 $\n"
          ]
        }
      ]
    },
    {
      "cell_type": "markdown",
      "source": [
        "### 9.- Escribe un programa que calcule el precio a pagar por un cliente, tomando en cuenta los descuentos correspondientes."
      ],
      "metadata": {
        "id": "037vAGMkqgdo"
      }
    },
    {
      "cell_type": "code",
      "source": [
        "print (\"Temporadas:\")\n",
        "print (\"(1)Invierno\\n(2)Primavera u Otoño\\n(3)Verano\\n\")\n",
        "print (\"Tipo de etiqueta:\")\n",
        "print (\"(1)Verde\\n(2)roja\\n(3)Amarilla\\n\")\n",
        "precio = int(input(\"Indique el costo de la prenda: \"))\n",
        "temp = int(input(\"Indique la temporada: \"))\n",
        "color = int(input(\"Indique la etiqueta: \"))\n",
        "\n",
        "if temp == 1:\n",
        "    if color == 2:\n",
        "            descuento = 30\n",
        "    elif color == 1:\n",
        "            descuento = 15\n",
        "    else:\n",
        "        descuento = 0\n",
        "elif temp == 2:\n",
        "    if color == 3:\n",
        "        descuento = 10\n",
        "    else: \n",
        "        descuento = 0\n",
        "else:\n",
        "    descuento = 20\n",
        "\n",
        "total = precio - (precio * descuento / 100)\n",
        "print (f\"Tiene un descuento de: {descuento}%\")\n",
        "print (f\"Su total es: ${total}\")"
      ],
      "metadata": {
        "id": "-SeKEydCqtJD",
        "outputId": "b6c09545-fb91-4674-88d6-184fa22c6104",
        "colab": {
          "base_uri": "https://localhost:8080/",
          "height": 0
        }
      },
      "execution_count": 11,
      "outputs": [
        {
          "output_type": "stream",
          "name": "stdout",
          "text": [
            "Temporadas:\n",
            "(1)Invierno\n",
            "(2)Primavera u Otoño\n",
            "(3)Verano\n",
            "\n",
            "Tipo de etiqueta:\n",
            "(1)Verde\n",
            "(2)roja\n",
            "(3)Amarilla\n",
            "\n",
            "Indique el costo de la prenda: 150\n",
            "Indique la temporada: 2\n",
            "Indique la etiqueta: 1\n",
            "Tiene un descuento de: 0%\n",
            "Su total es: $150.0\n"
          ]
        }
      ]
    },
    {
      "cell_type": "markdown",
      "source": [
        "### 10.- Escribe un programa que calcule el precio a pagar por un cliente, tomando en cuenta los descuentos correspondientes."
      ],
      "metadata": {
        "id": "nelZPE-aqtb0"
      }
    },
    {
      "cell_type": "code",
      "source": [
        "print (\"Tipos de Menú: \")\n",
        "print (\"(1)Menu del dia\\n(2)Infantil\\n(3)Vegetariano\\n(4)Menú del chef\")\n",
        "print (\"\\nDías de la semana: \")\n",
        "print (\"(1)Lunes\\n(2)Martes\\n(3)Miercoles\\n(4)Jueves\")\n",
        "print (\"(5)Viernes\\n(6)Fin de semana\\n\")\n",
        "comida = int(input(\"Digame su subtotal: $\"))\n",
        "menu = int(input(\"Indique el tipo de menú: \"))\n",
        "dia = int(input(\"Indique dia que vino: \"))\n",
        "\n",
        "if menu == dia:\n",
        "    if dia <= 2:\n",
        "        if dia == 2:\n",
        "            descuento = 20\n",
        "        else:\n",
        "            descuento = 10\n",
        "    else:\n",
        "        if dia == 3:\n",
        "            descuento = 15\n",
        "        elif dia == 4:\n",
        "            descuento = 5\n",
        "elif menu == 1 and dia == 5:\n",
        "    descuento = 5\n",
        "else:\n",
        "    descuento = 0\n",
        "total = comida - (comida * descuento / 100)\n",
        "\n",
        "print (f\"Tiene un descuento de: {descuento}%\")\n",
        "print (f\"Su total es: ${total}\")"
      ],
      "metadata": {
        "id": "C-2bIohAqy_N",
        "outputId": "0cdc8c2a-49e4-4958-d5c6-c0503e02810e",
        "colab": {
          "base_uri": "https://localhost:8080/",
          "height": 0
        }
      },
      "execution_count": 12,
      "outputs": [
        {
          "output_type": "stream",
          "name": "stdout",
          "text": [
            "Tipos de Menú: \n",
            "(1)Menu del dia\n",
            "(2)Infantil\n",
            "(3)Vegetariano\n",
            "(4)Menú del chef\n",
            "\n",
            "Días de la semana: \n",
            "(1)Lunes\n",
            "(2)Martes\n",
            "(3)Miercoles\n",
            "(4)Jueves\n",
            "(5)Viernes\n",
            "(6)Fin de semana\n",
            "\n",
            "Digame su subtotal: $200\n",
            "Indique el tipo de menú: 1\n",
            "Indique dia que vino: 6\n",
            "Tiene un descuento de: 0%\n",
            "Su total es: $200.0\n"
          ]
        }
      ]
    },
    {
      "cell_type": "markdown",
      "source": [],
      "metadata": {
        "id": "yi0rnQ61qzWN"
      }
    }
  ]
}