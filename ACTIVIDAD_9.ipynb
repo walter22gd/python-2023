{
  "nbformat": 4,
  "nbformat_minor": 0,
  "metadata": {
    "colab": {
      "provenance": [],
      "authorship_tag": "ABX9TyM4TJdDR/a1kLGoatcYjPGA",
      "include_colab_link": true
    },
    "kernelspec": {
      "name": "python3",
      "display_name": "Python 3"
    },
    "language_info": {
      "name": "python"
    }
  },
  "cells": [
    {
      "cell_type": "markdown",
      "metadata": {
        "id": "view-in-github",
        "colab_type": "text"
      },
      "source": [
        "<a href=\"https://colab.research.google.com/github/walter22gd/python-2023/blob/main/ACTIVIDAD_9.ipynb\" target=\"_parent\"><img src=\"https://colab.research.google.com/assets/colab-badge.svg\" alt=\"Open In Colab\"/></a>"
      ]
    },
    {
      "cell_type": "code",
      "execution_count": null,
      "metadata": {
        "id": "Q0YMALH6hrmK"
      },
      "outputs": [],
      "source": [
        "#!pip install kora -q\n",
        "from IPython.display import clear_output\n",
        "from kora import drive\n",
        "drive.link_nbs()\n",
        "from funciones import valinum_int\n",
        "import random"
      ]
    },
    {
      "cell_type": "code",
      "source": [
        "def crear_dic():\n",
        "    registro = [\"Matricula\",\"Nombre\",\"Ap.Paterno\",\"Ap.Materno\",\"Edad\",\"Sexo\"]\n",
        "    matricula=[369389,368617,369555,369386,369883,368808]\n",
        "    nombre=[\"Walter Jesus\",\"Luis Daniel\",\"Jacob Eduardo\",\"Roberto Alejandro\",\"Melquicedec\",\"Hector Emiliano\"]\n",
        "    appaterno=[\"Soto\",\"Villalobos\",\"Del Real\",\"Bonilla\",\"Luis\",\"Torres\"]\n",
        "    apmaterno=[\"Victorio\",\"Ensaldo\",\"Ramirez\",\"Lemus\",\"Vicente\",\"Orosco\"]\n",
        "    edad=[19,19,19,20,19,19]\n",
        "    sexo=[\"H\",\"H\",\"H\",\"H\",\"H\",\"H\"]\n",
        "    nrandom=random.randint(0,5)\n",
        "    dic = dict(zip(registro,[matricula[nrandom],nombre[nrandom],appaterno[nrandom],apmaterno[nrandom],edad[nrandom],sexo[nrandom]]))\n",
        "    print(\"Se creo el diccionario\")\n",
        "    return dic"
      ],
      "metadata": {
        "id": "BMdI380Kh_nQ"
      },
      "execution_count": null,
      "outputs": []
    },
    {
      "cell_type": "code",
      "source": [
        "def imprimir_dic(dic):\n",
        "    print(\"{:<20}{:<20}{:<20}{:<20}{:<20}{}\".format(\"Matricula\",\"Nombre\",\"Ap.Paterno\",\"Ap.Materno\",\"Edad\",\"Sexo\"))\n",
        "    print(\"{:<20}{:<20}{:<20}{:<20}{:<20}{}\".format(dic['Matricula'],dic['Nombre'],dic['Ap.Paterno'],dic['Ap.Materno'],dic['Edad'],dic['Sexo']))"
      ],
      "metadata": {
        "id": "PajgsOaViELl"
      },
      "execution_count": null,
      "outputs": []
    },
    {
      "cell_type": "code",
      "source": [
        "def menu():\n",
        "    print(\"MENU:\")\n",
        "    print(\"1.-CREAR DICCIONARIO\")\n",
        "    print(\"2.-IMPRIMIR DICCIONARIO\")\n",
        "    print(\"0.-SALIR\")"
      ],
      "metadata": {
        "id": "JJEXwhoFiIdW"
      },
      "execution_count": null,
      "outputs": []
    },
    {
      "cell_type": "code",
      "source": [
        "#EJECUCION DE TODAS LAS FUNCIONES(MAIN)\n",
        "while True:\n",
        "    menu()\n",
        "    op = valinum_int(\"Dime la funcion que deseas utilizar: \")\n",
        "    if op == 1:\n",
        "        dic = crear_dic()\n",
        "        input(\"Da click ENTER para borrar la pantalla\")\n",
        "        clear_output()\n",
        "        continue\n",
        "    elif op == 2:\n",
        "        imprimir_dic(dic)\n",
        "        input(\"Da click ENTER para borrar la pantalla\")\n",
        "        clear_output()\n",
        "        continue\n",
        "    elif op == 0:\n",
        "        break"
      ],
      "metadata": {
        "id": "0vGeB-SViLul"
      },
      "execution_count": null,
      "outputs": []
    }
  ]
}