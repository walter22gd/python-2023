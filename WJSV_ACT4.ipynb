{
  "nbformat": 4,
  "nbformat_minor": 0,
  "metadata": {
    "colab": {
      "provenance": [],
      "toc_visible": true,
      "authorship_tag": "ABX9TyMi4MU4nB+A52QuAU5HOp9p",
      "include_colab_link": true
    },
    "kernelspec": {
      "name": "python3",
      "display_name": "Python 3"
    },
    "language_info": {
      "name": "python"
    }
  },
  "cells": [
    {
      "cell_type": "markdown",
      "metadata": {
        "id": "view-in-github",
        "colab_type": "text"
      },
      "source": [
        "<a href=\"https://colab.research.google.com/github/walter22gd/python-2023/blob/main/WJSV_ACT4.ipynb\" target=\"_parent\"><img src=\"https://colab.research.google.com/assets/colab-badge.svg\" alt=\"Open In Colab\"/></a>"
      ]
    },
    {
      "cell_type": "markdown",
      "source": [
        "# Actividad 4 Python"
      ],
      "metadata": {
        "id": "26VCDxVg8LN8"
      }
    },
    {
      "cell_type": "markdown",
      "source": [
        "### 1.- Programa en python   que lea 3 calificaciones calcule el promedio del alumno."
      ],
      "metadata": {
        "id": "42LwWU4g8cID"
      }
    },
    {
      "cell_type": "code",
      "execution_count": null,
      "metadata": {
        "id": "iE6XKHY-7Wt7"
      },
      "outputs": [],
      "source": [
        "calif1 = int(input(\"dime tu calificación: \"))\n",
        "calif2 = int(input(\"dime tu calificación: \"))\n",
        "calif3 = int(input(\"dime tu calificación: \"))\n",
        "\n",
        "promedio = (calif1 + calif2 + calif3) / 3\n"
      ]
    },
    {
      "cell_type": "markdown",
      "source": [
        "### 2.- Programa en Python que sirva para calcular el salario semanal de un trabajador donde se obtiene como dato de entrada las horas semanales trabajadas, el salario por hora. "
      ],
      "metadata": {
        "id": "QtXTbEv1DLLT"
      }
    },
    {
      "cell_type": "code",
      "source": [],
      "metadata": {
        "id": "zZo-RVDLDMLU"
      },
      "execution_count": null,
      "outputs": []
    },
    {
      "cell_type": "markdown",
      "source": [
        "### 3.- Programa en Python que sirva para calcular el Total a pagar por consumo de agua, donde el dato de entrada son los M3 de agua consumidos."
      ],
      "metadata": {
        "id": "z9U4WeqSDMlE"
      }
    },
    {
      "cell_type": "code",
      "source": [],
      "metadata": {
        "id": "nPtJX9sjDMsz"
      },
      "execution_count": null,
      "outputs": []
    },
    {
      "cell_type": "markdown",
      "source": [
        "### 4- En la materia de Metodología de la programación se aplican 5 exámenes, calcular el promedio final de la materia donde la calificación menor de los exámenes se anula y el promedio se calcula en base a 4 exámenes."
      ],
      "metadata": {
        "id": "Wp59PGdNDMyk"
      }
    },
    {
      "cell_type": "code",
      "source": [],
      "metadata": {
        "id": "sZ1xADJ9DM37"
      },
      "execution_count": null,
      "outputs": []
    },
    {
      "cell_type": "markdown",
      "source": [
        "### 5.- Programa en Python que sirva para el juego del CHINCHAMPU (Piedra, Papel, Tijera) para 1 jugador y la computadora."
      ],
      "metadata": {
        "id": "KSMcwYMNDM9T"
      }
    },
    {
      "cell_type": "code",
      "source": [],
      "metadata": {
        "id": "vlCgr9akDNCE"
      },
      "execution_count": null,
      "outputs": []
    },
    {
      "cell_type": "markdown",
      "source": [
        "### 6.- Programa en Python que lea 4 números enteros desplegar cuál es el menor, cual es mayor.\n",
        "\n"
      ],
      "metadata": {
        "id": "A0JMu0T7DNGk"
      }
    },
    {
      "cell_type": "code",
      "source": [],
      "metadata": {
        "id": "2YugWt8bDNKz"
      },
      "execution_count": null,
      "outputs": []
    },
    {
      "cell_type": "markdown",
      "source": [
        "### 7.- Programa en Python que sirva para calcular el área de un triangulo, los datos de entrada deben ser forzosamente de tipo real."
      ],
      "metadata": {
        "id": "YSXnMgFxDNPM"
      }
    },
    {
      "cell_type": "code",
      "source": [],
      "metadata": {
        "id": "KXRVSN8CDNUT"
      },
      "execution_count": null,
      "outputs": []
    },
    {
      "cell_type": "markdown",
      "source": [
        "### 8.- Programa en Python que sirva para calcular el área de un circulo."
      ],
      "metadata": {
        "id": "Uif5K1HAD4I8"
      }
    },
    {
      "cell_type": "code",
      "source": [],
      "metadata": {
        "id": "OEQQ9NqaD4Yb"
      },
      "execution_count": null,
      "outputs": []
    }
  ]
}