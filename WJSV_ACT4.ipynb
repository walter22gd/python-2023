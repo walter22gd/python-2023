{
  "nbformat": 4,
  "nbformat_minor": 0,
  "metadata": {
    "colab": {
      "provenance": [],
      "authorship_tag": "ABX9TyOjQgrbKc+NVat3uNhN+Zmi",
      "include_colab_link": true
    },
    "kernelspec": {
      "name": "python3",
      "display_name": "Python 3"
    },
    "language_info": {
      "name": "python"
    }
  },
  "cells": [
    {
      "cell_type": "markdown",
      "metadata": {
        "id": "view-in-github",
        "colab_type": "text"
      },
      "source": [
        "<a href=\"https://colab.research.google.com/github/walter22gd/python-2023/blob/main/WJSV_ACT4.ipynb\" target=\"_parent\"><img src=\"https://colab.research.google.com/assets/colab-badge.svg\" alt=\"Open In Colab\"/></a>"
      ]
    },
    {
      "cell_type": "markdown",
      "source": [
        "# Actividad 4 Python"
      ],
      "metadata": {
        "id": "26VCDxVg8LN8"
      }
    },
    {
      "cell_type": "markdown",
      "source": [
        "### 1.- Programa en python   que lea 3 calificaciones calcule el promedio del alumno."
      ],
      "metadata": {
        "id": "42LwWU4g8cID"
      }
    },
    {
      "cell_type": "code",
      "execution_count": 1,
      "metadata": {
        "id": "iE6XKHY-7Wt7",
        "outputId": "9da47f3a-fa24-4d46-e5b6-d15a97c8629e",
        "colab": {
          "base_uri": "https://localhost:8080/"
        }
      },
      "outputs": [
        {
          "output_type": "stream",
          "name": "stdout",
          "text": [
            "Escribe 3 calificaciones: 98\n",
            "Segunda: 99\n",
            "Tercera: 100\n",
            "tu promedio es: 99.0\n",
            "EXCElENTE\n"
          ]
        }
      ],
      "source": [
        "try:\n",
        "    calif1 = int(input(\"Escribe 3 calificaciones: \"))\n",
        "    calif2 = int(input(\"Segunda: \"))\n",
        "    calif3 = int(input(\"Tercera: \"))\n",
        "    prom = (calif1 + calif2 + calif3) / 3\n",
        "    print (f\"tu promedio es: {round(prom, 2)}\")\n",
        "    if prom >= 80:\n",
        "        if prom < 90:\n",
        "            print (\"BIEN\")\n",
        "        elif prom < 98:\n",
        "            print (\"MUY BIEN\")\n",
        "        else:\n",
        "            if prom <= 100:\n",
        "                print (\"EXCElENTE\")\n",
        "            else:\n",
        "                print (\"ERROR\")\n",
        "    elif prom < 80:\n",
        "        if prom >= 70:\n",
        "            print (\"REGULAR\")\n",
        "        elif prom >= 60:\n",
        "            print (\"SUFICIENTE\")\n",
        "        else:\n",
        "            if prom >= 30:\n",
        "                print (\"EXTRAORDINARIO\")\n",
        "            else:\n",
        "                print (\"REPETIR\")\n",
        "    else:\n",
        "        print (\"?\")\n",
        "except ValueError:\n",
        "    print(\"Error: Los valores ingresados deben ser números enteros.\")\n"
      ]
    },
    {
      "cell_type": "markdown",
      "source": [
        "### 2.- Programa en Python que sirva para calcular el salario semanal de un trabajador donde se obtiene como dato de entrada las horas semanales trabajadas, el salario por hora. "
      ],
      "metadata": {
        "id": "QtXTbEv1DLLT"
      }
    },
    {
      "cell_type": "code",
      "source": [
        "try:\n",
        "    horas = int(input(\"Cuántas horas trabajó?\"))\n",
        "    pagaxhora = int(input(\"Cuánto es su sueldo por hora?\"))\n",
        "    if horas <= 40:\n",
        "        salanormal = horas * pagaxhora\n",
        "        salaextra = 0\n",
        "    elif horas < 50:\n",
        "        salaextra = (horas - 40) * pagaxhora * 2\n",
        "        salanormal = 40 * pagaxhora\n",
        "    else:\n",
        "        salaextra = (9 * pagaxhora * 2) + ((horas - 49) * pagaxhora * 3)\n",
        "        salanormal = 40 * pagaxhora\n",
        "    salario = salanormal + salaextra\n",
        "    print (f\"Horas trabajadas {horas}\\nSalaraio por hora: ${pagaxhora}\")\n",
        "    print (f\"Salario normal ${salanormal}\\nSalaraio extra: ${salaextra}\")\n",
        "    print (f\"Paga total: ${salario}\")\n",
        "except ValueError:\n",
        "    print(\"Error: Los valores ingresados deben ser números enteros.\")"
      ],
      "metadata": {
        "id": "zZo-RVDLDMLU",
        "outputId": "49c52be3-f933-436b-a0b8-a0fdd3b3e0ae",
        "colab": {
          "base_uri": "https://localhost:8080/"
        }
      },
      "execution_count": 3,
      "outputs": [
        {
          "output_type": "stream",
          "name": "stdout",
          "text": [
            "Cuántas horas trabajó?50\n",
            "Cuánto es su sueldo por hora?20\n",
            "Horas trabajadas 50\n",
            "Salaraio por hora: $20\n",
            "Salario normal $800\n",
            "Salaraio extra: $420\n",
            "Paga total: $1220\n"
          ]
        }
      ]
    },
    {
      "cell_type": "markdown",
      "source": [
        "### 3.- Programa en Python que sirva para calcular el Total a pagar por consumo de agua, donde el dato de entrada son los M3 de agua consumidos."
      ],
      "metadata": {
        "id": "z9U4WeqSDMlE"
      }
    },
    {
      "cell_type": "code",
      "source": [
        "try:\n",
        "    consumo = int(input(\"¿Cuántos m^3 de agua consumió? :\"))\n",
        "    if consumo < 5:\n",
        "        subtotal = 50\n",
        "    elif consumo < 51:\n",
        "        if consumo < 16:\n",
        "            subtotal = consumo * 8\n",
        "        else:\n",
        "            subtotal = consumo * 10\n",
        "    else:\n",
        "        subtotal = consumo * 11\n",
        "    iva = subtotal * 0.16\n",
        "    total = subtotal + iva\n",
        "    print (f\"Subtotal: ${subtotal}\")\n",
        "    print (f\"Iva: ${round(iva, 2)}\\nTotal: ${round(total, 2)}\")\n",
        "except ValueError:\n",
        "    print(\"Error: Los valores ingresados deben ser números enteros.\")"
      ],
      "metadata": {
        "id": "nPtJX9sjDMsz",
        "outputId": "2b802d62-52f4-4ae8-b906-474144528655",
        "colab": {
          "base_uri": "https://localhost:8080/"
        }
      },
      "execution_count": 4,
      "outputs": [
        {
          "output_type": "stream",
          "name": "stdout",
          "text": [
            "¿Cuántos m^3 de agua consumió? :3\n",
            "Subtotal: $50\n",
            "Iva: $8.0\n",
            "Total: $58.0\n"
          ]
        }
      ]
    },
    {
      "cell_type": "markdown",
      "source": [
        "### 4- En la materia de Metodología de la programación se aplican 5 exámenes, calcular el promedio final de la materia donde la calificación menor de los exámenes se anula y el promedio se calcula en base a 4 exámenes."
      ],
      "metadata": {
        "id": "Wp59PGdNDMyk"
      }
    },
    {
      "cell_type": "code",
      "source": [
        "try:\n",
        "    print (\"Escribe tus 5 calificaciones del examen: \")\n",
        "    calif1 = int(input(\"Primera: \"))\n",
        "    calif2 = int(input(\"Segunda: \"))\n",
        "    calif3 = int(input(\"Tercera: \"))\n",
        "    calif4 = int(input(\"Cuarta: \"))\n",
        "    calif5 = int(input(\"Quinta: \"))\n",
        "    menor = min(calif1, calif2, calif3, calif4, calif5)\n",
        "    prom = (calif1 + calif2 + calif3 + calif4 + calif5 - menor) / 4\n",
        "    print (f\"La calificación menor es: {menor}\")\n",
        "    print (f\"Su proedio sin la menor es: {round(prom, 2)}\")\n",
        "except ValueError:\n",
        "    print(\"Error: Los valores ingresados deben ser números enteros.\")"
      ],
      "metadata": {
        "id": "sZ1xADJ9DM37",
        "outputId": "1b0b1706-5b98-4256-e5c2-34db8e49674e",
        "colab": {
          "base_uri": "https://localhost:8080/"
        }
      },
      "execution_count": 5,
      "outputs": [
        {
          "output_type": "stream",
          "name": "stdout",
          "text": [
            "Escribe tus 5 calificaciones del examen: \n",
            "Primera: 90\n",
            "Segunda: 100\n",
            "Tercera: 90\n",
            "Cuarta: 100\n",
            "Quinta: 98\n",
            "La calificación menor es: 90\n",
            "Su proedio sin la menor es: 97.0\n"
          ]
        }
      ]
    },
    {
      "cell_type": "markdown",
      "source": [
        "### 5.- Programa en Python que sirva para el juego del CHINCHAMPU (Piedra, Papel, Tijera) para 1 jugador y la computadora."
      ],
      "metadata": {
        "id": "KSMcwYMNDM9T"
      }
    },
    {
      "cell_type": "code",
      "source": [
        "import random\n",
        "try:\n",
        "    print (\"Chin Chan Pu\")\n",
        "    print (\"Piedra, papel o tijera!\")\n",
        "    print (\"(1)Piedra\\n(2)Papel\\n(3)Tijera\")\n",
        "    mano = int(input(\"Escoja su jugada: \"))\n",
        "    comp = random.randint(1, 3)\n",
        "\n",
        "    if mano == comp:\n",
        "        print (\"Elegí lo mismo\\nEs un empate!\")\n",
        "    elif mano ==  1:\n",
        "        if comp == 2:\n",
        "            print (\"Yo elijo papel\\nPerdiste!\")\n",
        "        else:\n",
        "            print (\"Yo elijo tijera\\nGanaste!\")\n",
        "    elif mano == 2:\n",
        "        if comp == 3:\n",
        "            print (\"Yo elijo tijera\\nPerdiste!\")\n",
        "        else:\n",
        "            print (\"Yo elijo piedra\\nGanaste!\")\n",
        "    elif mano == 3:\n",
        "        if comp == 1:\n",
        "            print (\"Yo elijo piedra\\nPerdiste!\")\n",
        "        else:\n",
        "            print (\"Yo elijo papel\\nGanaste!\")\n",
        "    else:\n",
        "        print (\"Error: Sólo puedes introducir una de las opciones\")\n",
        "\n",
        "except ValueError:\n",
        "    print (\"Error: Sólo puedes introducir una de las opciones\")"
      ],
      "metadata": {
        "id": "vlCgr9akDNCE",
        "outputId": "da690251-146b-42b2-e0c7-1454cd78694b",
        "colab": {
          "base_uri": "https://localhost:8080/"
        }
      },
      "execution_count": 6,
      "outputs": [
        {
          "output_type": "stream",
          "name": "stdout",
          "text": [
            "Chin Chan Pu\n",
            "Piedra, papel o tijera!\n",
            "(1)Piedra\n",
            "(2)Papel\n",
            "(3)Tijera\n",
            "Escoja su jugada: 3\n",
            "Elegí lo mismo\n",
            "Es un empate!\n"
          ]
        }
      ]
    },
    {
      "cell_type": "markdown",
      "source": [
        "### 6.- Programa en Python que lea 4 números enteros desplegar cuál es el menor, cual es mayor.\n",
        "\n"
      ],
      "metadata": {
        "id": "A0JMu0T7DNGk"
      }
    },
    {
      "cell_type": "code",
      "source": [
        "try:\n",
        "    num1 = int(input(\"Dime 4 números\\nPrimero: \"))\n",
        "    num2 = int(input(\"Segundo: \"))\n",
        "    num3 = int(input(\"Tercero: \"))\n",
        "    num4 = int(input(\"Cuarto: \"))\n",
        "    print (f\"El número menor es: {min(num1, num2, num3, num4)}\")\n",
        "    print (f\"El número mayor es: {max(num1, num2, num3, num4)}\")\n",
        "except ValueError:\n",
        "    print(\"Error: Los valores ingresados deben ser números enteros.\")"
      ],
      "metadata": {
        "id": "2YugWt8bDNKz",
        "outputId": "831b2e90-88ab-40df-fa3f-e8754a88015d",
        "colab": {
          "base_uri": "https://localhost:8080/"
        }
      },
      "execution_count": 7,
      "outputs": [
        {
          "output_type": "stream",
          "name": "stdout",
          "text": [
            "Dime 4 números\n",
            "Primero: 1\n",
            "Segundo: 2\n",
            "Tercero: 3\n",
            "Cuarto: 4\n",
            "El número menor es: 1\n",
            "El número mayor es: 4\n"
          ]
        }
      ]
    },
    {
      "cell_type": "markdown",
      "source": [
        "### 7.- Programa en Python que sirva para calcular el área de un triangulo, los datos de entrada deben ser forzosamente de tipo real."
      ],
      "metadata": {
        "id": "YSXnMgFxDNPM"
      }
    },
    {
      "cell_type": "code",
      "source": [
        "try:\n",
        "    base = float(input(\"Dime la base del triángulo: \"))\n",
        "    altura = float(input(\"Dime la altura del triángulo: \"))\n",
        "    area = base * altura / 2\n",
        "    print (f\"El area del triángulo es: {round(area, 2)}u^2\")\n",
        "\n",
        "except ValueError:\n",
        "    print (\"Error: Los valores ingresados deben ser números reales\")"
      ],
      "metadata": {
        "id": "KXRVSN8CDNUT",
        "outputId": "74472785-4889-4ff4-c2a5-7dc27f0a094d",
        "colab": {
          "base_uri": "https://localhost:8080/"
        }
      },
      "execution_count": 8,
      "outputs": [
        {
          "output_type": "stream",
          "name": "stdout",
          "text": [
            "Dime la base del triángulo: 3\n",
            "Dime la altura del triángulo: 6\n",
            "El area del triángulo es: 9.0u^2\n"
          ]
        }
      ]
    },
    {
      "cell_type": "markdown",
      "source": [
        "### 8.- Programa en Python que sirva para calcular el área de un circulo."
      ],
      "metadata": {
        "id": "Uif5K1HAD4I8"
      }
    },
    {
      "cell_type": "code",
      "source": [
        "try:\n",
        "    radio = float(input(\"Dime el radio del círculo: \"))\n",
        "    area = 3.141592 * pow(radio, 2)\n",
        "    print (f\"El área del círculo es: {round(area, 2)}\")\n",
        "\n",
        "except ValueError:\n",
        "    print (\"Error: Los valores ingresados deben ser números reales\")"
      ],
      "metadata": {
        "id": "OEQQ9NqaD4Yb",
        "outputId": "cf94a4f0-f459-430c-9acd-7961449b7508",
        "colab": {
          "base_uri": "https://localhost:8080/"
        }
      },
      "execution_count": 9,
      "outputs": [
        {
          "output_type": "stream",
          "name": "stdout",
          "text": [
            "Dime el radio del círculo: 3\n",
            "El área del círculo es: 28.27\n"
          ]
        }
      ]
    }
  ]
}