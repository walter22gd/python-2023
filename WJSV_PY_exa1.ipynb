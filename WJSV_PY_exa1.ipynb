{
  "nbformat": 4,
  "nbformat_minor": 0,
  "metadata": {
    "colab": {
      "provenance": [],
      "authorship_tag": "ABX9TyNKi2TN4aozgjKiy6orpuS/",
      "include_colab_link": true
    },
    "kernelspec": {
      "name": "python3",
      "display_name": "Python 3"
    },
    "language_info": {
      "name": "python"
    }
  },
  "cells": [
    {
      "cell_type": "markdown",
      "metadata": {
        "id": "view-in-github",
        "colab_type": "text"
      },
      "source": [
        "<a href=\"https://colab.research.google.com/github/walter22gd/python-2023/blob/main/WJSV_PY_exa1.ipynb\" target=\"_parent\"><img src=\"https://colab.research.google.com/assets/colab-badge.svg\" alt=\"Open In Colab\"/></a>"
      ]
    },
    {
      "cell_type": "markdown",
      "source": [
        "## Pregunta 1\n",
        "###Escribe una funcion de Python en collaboratory que realice lo siguiente:\n",
        "###funcion que retorne un numero dentro de un rango dado, validar el numero que cumpla el requisito del rango, la funcion debera validar que el programa no marque error por introducir informacion erronea (usar try except)\n",
        "###Escribir codigo que mande llamar la funcion y desplegar el resultado,"
      ],
      "metadata": {
        "id": "X7eKfNFnsSlm"
      }
    },
    {
      "cell_type": "code",
      "execution_count": 55,
      "metadata": {
        "colab": {
          "base_uri": "https://localhost:8080/"
        },
        "id": "EQxT82q1r0ON",
        "outputId": "4b8dd3f3-51cc-4e40-b45c-c1abb318aa27"
      },
      "outputs": [
        {
          "output_type": "stream",
          "name": "stdout",
          "text": [
            "dime un numero entre 1 y 20:22\n",
            "numero fuera del rango\n",
            "dime un numero entre 1 y 20:3\n",
            "el numero es 3.0\n"
          ]
        }
      ],
      "source": [
        "def validar_rang(ri,rf):\n",
        "    while True:\n",
        "       try:\n",
        "           num = float(input(f\"dime un numero entre {ri} y {rf}:\"))\n",
        "           if num > ri and num < rf:\n",
        "                return num\n",
        "           else:\n",
        "                  print(\"numero fuera del rango\")\n",
        "       except:\n",
        "                  print(\"error, el numero no es valido\")\n",
        "\n",
        "num_validado = validar_rang(1,20)\n",
        "print(f\"el numero es {num_validado}\")"
      ]
    },
    {
      "cell_type": "markdown",
      "source": [
        "##Pregunta 22\n",
        "###Escribe una funcion de Python en collaboratory que realice lo siguiente:\n",
        "###funcion que retorne el factorial de un numero dado \n",
        "###Escribir codigo que mande llamar la funcion y desplegar el resultado"
      ],
      "metadata": {
        "id": "K1ZdqA_d3yps"
      }
    },
    {
      "cell_type": "code",
      "source": [
        "def factorial(num):\n",
        "   num_fact= 1\n",
        "   i = 1\n",
        "   while i < num:\n",
        "        num_fact = num_fact + (i*num_fact)\n",
        "        i = i + 1\n",
        "   print(num_fact)\n",
        "   return num_fact\n",
        "\n",
        "numero = int(input(\"dime un numero: \"))\n",
        "num_fact = factorial(numero)\n",
        "print(f\"El factorial de  {numero} es:  {num_fact}\") "
      ],
      "metadata": {
        "colab": {
          "base_uri": "https://localhost:8080/"
        },
        "id": "gNjplJkw3fBL",
        "outputId": "42e6cb80-d9d0-4d36-be82-6fe064dd0465"
      },
      "execution_count": 21,
      "outputs": [
        {
          "output_type": "stream",
          "name": "stdout",
          "text": [
            "dime un numero: 3\n",
            "6\n",
            "El factorial de  3 es:  6\n"
          ]
        }
      ]
    },
    {
      "cell_type": "markdown",
      "source": [
        "Pregunta 23\n",
        "Escribe una funcion de Python en collaboratory que realice lo siguiente:\n",
        "\n",
        "funcion que retorne el resultado del area de un triangulo\n",
        "\n",
        "Escribir codigo que mande llamar la funcion y desplegar el resultado,\n",
        "\n",
        "VALIDAR da tos entrada"
      ],
      "metadata": {
        "id": "9qiWRSKc6M2v"
      }
    },
    {
      "cell_type": "code",
      "source": [
        "def area_triangulo(base,altura):\n",
        "    area = (base * altura) / 2\n",
        "    return area\n",
        "\n",
        "base = float(input(\"dime la base\"))\n",
        "altura = float(input(\"dime la altura\"))\n",
        "area = area_triangulo(base,altura)\n",
        "print(f\"el area es: {area}\")"
      ],
      "metadata": {
        "colab": {
          "base_uri": "https://localhost:8080/"
        },
        "id": "MUcUfVwc6SUe",
        "outputId": "a4db5e14-904a-4b67-c6d1-d61cecd6c04d"
      },
      "execution_count": 18,
      "outputs": [
        {
          "output_type": "stream",
          "name": "stdout",
          "text": [
            "dime la base20\n",
            "dime la altura50\n",
            "el area es: 500.0\n"
          ]
        }
      ]
    }
  ]
}