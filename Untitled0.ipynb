{
  "nbformat": 4,
  "nbformat_minor": 0,
  "metadata": {
    "colab": {
      "provenance": [],
      "authorship_tag": "ABX9TyMle8FugFfyBVfFy1T0c3Se",
      "include_colab_link": true
    },
    "kernelspec": {
      "name": "python3",
      "display_name": "Python 3"
    },
    "language_info": {
      "name": "python"
    }
  },
  "cells": [
    {
      "cell_type": "markdown",
      "metadata": {
        "id": "view-in-github",
        "colab_type": "text"
      },
      "source": [
        "<a href=\"https://colab.research.google.com/github/walter22gd/python-2023/blob/main/Untitled0.ipynb\" target=\"_parent\"><img src=\"https://colab.research.google.com/assets/colab-badge.svg\" alt=\"Open In Colab\"/></a>"
      ]
    },
    {
      "cell_type": "markdown",
      "source": [
        "# mi primer programa de python en colaboratory\n",
        "\n",
        "1. usar colaboratory\n",
        "2. git hub\n",
        "3. la sentencia de salida print"
      ],
      "metadata": {
        "id": "_-R6xPEyzPwc"
      }
    },
    {
      "cell_type": "code",
      "source": [
        "print (\"hola mundo\")\n"
      ],
      "metadata": {
        "colab": {
          "base_uri": "https://localhost:8080/"
        },
        "id": "8g7j2LhKzfUU",
        "outputId": "01dcf6f8-da63-4419-eec6-57d32d704dcd"
      },
      "execution_count": 4,
      "outputs": [
        {
          "output_type": "stream",
          "name": "stdout",
          "text": [
            "hola mundo\n"
          ]
        }
      ]
    },
    {
      "cell_type": "markdown",
      "source": [
        "## este es mi nombre"
      ],
      "metadata": {
        "id": "GyWKMtr_004c"
      }
    },
    {
      "cell_type": "code",
      "source": [
        "\n",
        "print (\"walter jesus soto victorio\")"
      ],
      "metadata": {
        "colab": {
          "base_uri": "https://localhost:8080/"
        },
        "id": "CkY-sLlDzbdV",
        "outputId": "c7673600-73f9-4ac3-cee9-275f0741aaad"
      },
      "execution_count": 5,
      "outputs": [
        {
          "output_type": "stream",
          "name": "stdout",
          "text": [
            "walter jesus soto victorio\n"
          ]
        }
      ]
    }
  ]
}