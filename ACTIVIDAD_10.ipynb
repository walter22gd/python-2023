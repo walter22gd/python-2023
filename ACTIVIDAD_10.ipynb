{
  "nbformat": 4,
  "nbformat_minor": 0,
  "metadata": {
    "colab": {
      "provenance": [],
      "include_colab_link": true
    },
    "kernelspec": {
      "name": "python3",
      "display_name": "Python 3"
    },
    "language_info": {
      "name": "python"
    }
  },
  "cells": [
    {
      "cell_type": "markdown",
      "metadata": {
        "id": "view-in-github",
        "colab_type": "text"
      },
      "source": [
        "<a href=\"https://colab.research.google.com/github/walter22gd/python-2023/blob/main/ACTIVIDAD_10.ipynb\" target=\"_parent\"><img src=\"https://colab.research.google.com/assets/colab-badge.svg\" alt=\"Open In Colab\"/></a>"
      ]
    },
    {
      "cell_type": "code",
      "execution_count": 1,
      "metadata": {
        "id": "5stua34yC-WG",
        "colab": {
          "base_uri": "https://localhost:8080/",
          "height": 373
        },
        "outputId": "8f0f4abb-ea94-4afd-ac3a-dd140e262726"
      },
      "outputs": [
        {
          "output_type": "error",
          "ename": "ModuleNotFoundError",
          "evalue": "ignored",
          "traceback": [
            "\u001b[0;31m---------------------------------------------------------------------------\u001b[0m",
            "\u001b[0;31mModuleNotFoundError\u001b[0m                       Traceback (most recent call last)",
            "\u001b[0;32m<ipython-input-1-bb08fe9d78eb>\u001b[0m in \u001b[0;36m<cell line: 4>\u001b[0;34m()\u001b[0m\n\u001b[1;32m      2\u001b[0m \u001b[0;31m#!pip install pyyaml\u001b[0m\u001b[0;34m\u001b[0m\u001b[0;34m\u001b[0m\u001b[0m\n\u001b[1;32m      3\u001b[0m \u001b[0;32mfrom\u001b[0m \u001b[0mIPython\u001b[0m\u001b[0;34m.\u001b[0m\u001b[0mdisplay\u001b[0m \u001b[0;32mimport\u001b[0m \u001b[0mclear_output\u001b[0m\u001b[0;34m\u001b[0m\u001b[0;34m\u001b[0m\u001b[0m\n\u001b[0;32m----> 4\u001b[0;31m \u001b[0;32mfrom\u001b[0m \u001b[0mkora\u001b[0m \u001b[0;32mimport\u001b[0m \u001b[0mdrive\u001b[0m\u001b[0;34m\u001b[0m\u001b[0;34m\u001b[0m\u001b[0m\n\u001b[0m\u001b[1;32m      5\u001b[0m \u001b[0mdrive\u001b[0m\u001b[0;34m.\u001b[0m\u001b[0mlink_nbs\u001b[0m\u001b[0;34m(\u001b[0m\u001b[0;34m)\u001b[0m\u001b[0;34m\u001b[0m\u001b[0;34m\u001b[0m\u001b[0m\n\u001b[1;32m      6\u001b[0m \u001b[0;32mfrom\u001b[0m \u001b[0mfunciones\u001b[0m \u001b[0;32mimport\u001b[0m \u001b[0mvalinum_int\u001b[0m\u001b[0;34m\u001b[0m\u001b[0;34m\u001b[0m\u001b[0m\n",
            "\u001b[0;31mModuleNotFoundError\u001b[0m: No module named 'kora'",
            "",
            "\u001b[0;31m---------------------------------------------------------------------------\u001b[0;32m\nNOTE: If your import is failing due to a missing package, you can\nmanually install dependencies using either !pip or !apt.\n\nTo view examples of installing some common dependencies, click the\n\"Open Examples\" button below.\n\u001b[0;31m---------------------------------------------------------------------------\u001b[0m\n"
          ],
          "errorDetails": {
            "actions": [
              {
                "action": "open_url",
                "actionText": "Open Examples",
                "url": "/notebooks/snippets/importing_libraries.ipynb"
              }
            ]
          }
        }
      ],
      "source": [
        "#!pip install kora -q\n",
        "#!pip install pyyaml\n",
        "from IPython.display import clear_output\n",
        "from kora import drive\n",
        "drive.link_nbs()\n",
        "from funciones import valinum_int\n",
        "import random\n",
        "import json\n",
        "import yaml\n",
        "import pandas as pd"
      ]
    },
    {
      "cell_type": "code",
      "source": [
        "def agregar_aut(lista_dic):\n",
        "    clear_output()\n",
        "    registro = [\"ID\",\"Nombre\",\"Ap.Paterno\",\"Ap.Materno\",\"Puesto\",\"Sexo\"]\n",
        "    nombre_h=[\"Walter\",\"Luis\", \"Jacob\",\"Roberto\",\"Alan\",\"Hector\",\"Daniel\"]\n",
        "    nombre_m=[\"Paula\",\"Leslie\",\"Daniela\",\"Valeria\",\"Maria\",\"Liz\",\"Hanna\"]\n",
        "    appaterno=[\"Soto\",\"Villalobos\",\"DelReal\",\"bonilla\",\"Rodriguez\",\"Ruiz\",\"Vicente\"]\n",
        "    apmaterno=[\"Navarro\",\"Gonzalez\",\"Becerra\",\"Jacquez\",\"Carmona\"]\n",
        "    puesto=[\"Supervisor\",\"Encargad@\",\"Conserje\",\"Gerente\",\"Guardia\",\"Empleado Gral\",\"Jefe\"]\n",
        "    sexo=[\"H\",\"M\"]\n",
        "    while True: \n",
        "        lista_datos=[]\n",
        "        repetido = False\n",
        "        while repetido == False:\n",
        "            clear_output()\n",
        "            id = random.randint(300000,400000)\n",
        "            repetido = verificar_id(lista_dic,id)\n",
        "        lista_datos.append(id)\n",
        "        h_o_m =random.randint(1,2)\n",
        "        if h_o_m == 1:\n",
        "            cant_nom = random.randint(1,2)\n",
        "            if cant_nom == 1:\n",
        "                lista_datos.append(random.choice(nombre_h))\n",
        "            else:\n",
        "                nombre = f\"{random.choice(nombre_h)} {random.choice(nombre_h)}\"\n",
        "                lista_datos.append(nombre)\n",
        "        else:\n",
        "            cant_nom = random.randint(1,2)\n",
        "            if cant_nom == 1:\n",
        "                lista_datos.append(random.choice(nombre_m))\n",
        "            else:\n",
        "                nombre = f\"{random.choice(nombre_m)} {random.choice(nombre_m)}\"\n",
        "                lista_datos.append(nombre)\n",
        "        lista_datos.append(random.choice(appaterno))\n",
        "        lista_datos.append(random.choice(apmaterno))\n",
        "        lista_datos.append(random.choice(puesto))\n",
        "        if h_o_m == 1:\n",
        "            lista_datos.append(sexo[0])\n",
        "        else:\n",
        "            lista_datos.append(sexo[1])\n",
        "        dic = dict(zip(registro,lista_datos))\n",
        "        lista_dic.append(dic)\n",
        "        print(\"Se agrego correctamente el registro\")\n",
        "        op = valinum_int(\"Deseas agregar otro registro?[1.-Si 2.-No]: \")\n",
        "        if op == 2:\n",
        "            break"
      ],
      "metadata": {
        "id": "2A7IqLsmD1pF"
      },
      "execution_count": null,
      "outputs": []
    },
    {
      "cell_type": "code",
      "source": [
        "def agregar_man(lista_dic):\n",
        "    clear_output()\n",
        "    registro = [\"ID\",\"Nombre\",\"Ap.Paterno\",\"Ap.Materno\",\"Puesto\",\"Sexo\"]\n",
        "    while True:\n",
        "        repetido = False\n",
        "        lista_datos = []\n",
        "        while repetido == False:\n",
        "            id = valinum_int(\"Dime tu ID: \",300000,400000)\n",
        "            repetido = verificar_id(lista_dic,id)\n",
        "        lista_datos.append(id)\n",
        "        nom = input(\"Dime tu Nombre: \")\n",
        "        lista_datos.append(nom)\n",
        "        appat = input(\"Dime tu Apellido Paterno: \")\n",
        "        lista_datos.append(appat)\n",
        "        apmat = input(\"Dime tu Apellido Materno: \")\n",
        "        lista_datos.append(apmat)\n",
        "        puest = input(\"Dime el Puesto que desempeñas: \")\n",
        "        lista_datos.append(puest)\n",
        "        sex = input(\"Dime tu Sexo[H o M]: \")\n",
        "        lista_datos.append(sex)\n",
        "        dic = dict(zip(registro,lista_datos))\n",
        "        lista_dic.append(dic)\n",
        "        print(\"Se agrego correctamente el registro\")\n",
        "        op = valinum_int(\"Deseas agregar otro registro?[1.-Si 2.-No]: \",1,2)\n",
        "        if op == 2:\n",
        "            break"
      ],
      "metadata": {
        "id": "uZPCDSGAD7AW"
      },
      "execution_count": null,
      "outputs": []
    },
    {
      "cell_type": "code",
      "source": [
        "def imprimir(lista_dic,check_ord):\n",
        "    clear_output()\n",
        "    op = random.randint(1,3)\n",
        "    if check_ord == 1:\n",
        "        lista_ord = sorted(lista_dic, key=lambda x: x[\"ID\"])\n",
        "        if op == 1:\n",
        "            print(yaml.dump(lista_ord,sort_keys=False,default_flow_style=False))\n",
        "        elif op == 2:\n",
        "            print(json.dumps(lista_ord, sort_keys=False, indent=2))\n",
        "        elif op == 3:\n",
        "            salida=pd.DataFrame(lista_ord)\n",
        "            print(salida)\n",
        "    else:\n",
        "        if op == 1:\n",
        "            print(yaml.dump(lista_dic,sort_keys=False,default_flow_style=False))\n",
        "        elif op == 2:\n",
        "            print(json.dumps(lista_dic, sort_keys=False, indent=2))\n",
        "        elif op == 3:\n",
        "            salida=pd.DataFrame(lista_dic)\n",
        "            print(salida)"
      ],
      "metadata": {
        "id": "WQj_ju_qPjBY"
      },
      "execution_count": null,
      "outputs": []
    },
    {
      "cell_type": "code",
      "source": [
        "def buscar(lista_dic):\n",
        "    clear_output()\n",
        "    dic_encontrado = []\n",
        "    encontrado = False\n",
        "    id_busq = valinum_int(\"Dime el ID de la persona que buscas: \",300000,400000)\n",
        "    for diccionario in lista_dic:\n",
        "        if diccionario.get(\"ID\") == id_busq:\n",
        "            print(f\"Se encontro un registro con el ID: {id_busq}\")\n",
        "            dic_encontrado.append(diccionario)\n",
        "            salida=pd.DataFrame(dic_encontrado)\n",
        "            print(salida)\n",
        "            encontrado = True\n",
        "    if not encontrado:\n",
        "        print(f\"No se encontro ningun registro con el ID {id_busq}\")\n",
        "  "
      ],
      "metadata": {
        "id": "kb1qYeL-RzbH"
      },
      "execution_count": null,
      "outputs": []
    },
    {
      "cell_type": "code",
      "source": [
        "def ordenar_dic(lista_dic,check_ord):\n",
        "    clear_output()\n",
        "    if check_ord == 1:\n",
        "        print(\"La lista ya se encuentra ordenada\")\n",
        "    else:\n",
        "        print(\"Se ordeno la lista\")\n",
        "        return 1"
      ],
      "metadata": {
        "id": "atrJSee-S2Le"
      },
      "execution_count": null,
      "outputs": []
    },
    {
      "cell_type": "code",
      "source": [
        "def eliminar(lista_dic):\n",
        "    clear_output()\n",
        "    encontrado = False\n",
        "    id_eliminar = valinum_int(\"Ingresa el ID de la persona que deseas eliminar el registro: \")\n",
        "    for i, diccionario in enumerate(lista_dic):\n",
        "        if diccionario.get(\"ID\") == id_eliminar:\n",
        "            print(f\"Se elimino a la persona con el ID: {id_eliminar}\")\n",
        "            del lista_dic[i]\n",
        "            encontrado = True\n",
        "    if not encontrado:\n",
        "        print(f\"No se encontro ningun registro con el ID {id_eliminar}\")"
      ],
      "metadata": {
        "id": "JI5cpsWj5sFV"
      },
      "execution_count": null,
      "outputs": []
    },
    {
      "cell_type": "code",
      "source": [
        "def verificar_id(lista_dic,id):\n",
        "    for diccionario in lista_dic:\n",
        "        if diccionario.get(\"ID\") == id:\n",
        "            print(\"Ya existe un registro con ese ID, prueba otro\")\n",
        "            return False\n",
        "    return True"
      ],
      "metadata": {
        "id": "dkopsdONMQ3B"
      },
      "execution_count": null,
      "outputs": []
    },
    {
      "cell_type": "code",
      "source": [
        "def menu():\n",
        "    print(\"MENU:\")\n",
        "    print(\"1.-AGREGAR AUTOMATICO\")\n",
        "    print(\"2.-AGREGAR MANUAL\")\n",
        "    print(\"3.-IMPRIMIR LISTA\")\n",
        "    print(\"4.-BUSCAR\")\n",
        "    print(\"5.-ORDENAR\")\n",
        "    print(\"6.-ELIMINAR\")\n",
        "    print(\"7.-BORRAR TODA LA LISTA\")\n",
        "    print(\"0.-SALIR\")"
      ],
      "metadata": {
        "id": "h0SH2bMGDHqd"
      },
      "execution_count": null,
      "outputs": []
    },
    {
      "cell_type": "code",
      "source": [
        "#EJECUCION DE TODAS LAS FUNCIONES(MAIN)\n",
        "lista_dic =[]\n",
        "check_ord = 0\n",
        "while True:\n",
        "    menu()\n",
        "    op = valinum_int(\"Dime la funcion que deseas utilizar: \")\n",
        "    if op == 1:\n",
        "        agregar_aut(lista_dic)\n",
        "        check_ord = 0\n",
        "        input(\"Presiona ENTER para borrar la pantalla\")\n",
        "        clear_output()\n",
        "        continue\n",
        "    elif op == 2:\n",
        "        agregar_man(lista_dic)\n",
        "        check_ord = 0\n",
        "        input(\"Presiona ENTER para borrar la pantalla\")\n",
        "        clear_output()\n",
        "        continue\n",
        "    elif op == 3:\n",
        "        imprimir(lista_dic,check_ord)\n",
        "        input(\"Presiona ENTER para borrar la pantalla\")\n",
        "        clear_output()\n",
        "        continue\n",
        "    elif op == 4:\n",
        "        buscar(lista_dic)\n",
        "        input(\"Presiona ENTER para borrar la pantalla\")\n",
        "        clear_output()\n",
        "        continue\n",
        "    elif op == 5:\n",
        "        check_ord = ordenar_dic(lista_dic,check_ord)\n",
        "        input(\"Presiona ENTER para borrar la pantalla\")\n",
        "        clear_output()\n",
        "        continue\n",
        "    elif op == 6:\n",
        "        eliminar(lista_dic)\n",
        "        input(\"Presiona ENTER para borrar la pantalla\")\n",
        "        clear_output()\n",
        "        continue\n",
        "    elif op == 7:\n",
        "        lista_dic = []\n",
        "    elif op == 0:\n",
        "        break"
      ],
      "metadata": {
        "id": "yXOPETapOtcq"
      },
      "execution_count": null,
      "outputs": []
    }
  ]
}