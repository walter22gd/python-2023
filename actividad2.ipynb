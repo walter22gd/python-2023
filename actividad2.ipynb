{
  "nbformat": 4,
  "nbformat_minor": 0,
  "metadata": {
    "colab": {
      "provenance": [],
      "authorship_tag": "ABX9TyMDaXaz4gdZAhkEw9P5sFuR",
      "include_colab_link": true
    },
    "kernelspec": {
      "name": "python3",
      "display_name": "Python 3"
    },
    "language_info": {
      "name": "python"
    }
  },
  "cells": [
    {
      "cell_type": "markdown",
      "metadata": {
        "id": "view-in-github",
        "colab_type": "text"
      },
      "source": [
        "<a href=\"https://colab.research.google.com/github/walter22gd/python-2023/blob/main/actividad2.ipynb\" target=\"_parent\"><img src=\"https://colab.research.google.com/assets/colab-badge.svg\" alt=\"Open In Colab\"/></a>"
      ]
    },
    {
      "cell_type": "markdown",
      "source": [
        "# Actividad 2 de Python."
      ],
      "metadata": {
        "id": "o3tFlr9vRkuq"
      }
    },
    {
      "cell_type": "markdown",
      "source": [
        "###1.- Programa en Python que lea 2 números enteros, usar una condición y analizar los dos números y desplegar cual de los números es el mayor. 1"
      ],
      "metadata": {
        "id": "Tl-Jy1fMRZAG"
      }
    },
    {
      "cell_type": "code",
      "execution_count": 1,
      "metadata": {
        "colab": {
          "base_uri": "https://localhost:8080/"
        },
        "id": "l3mH9A4CQtvT",
        "outputId": "dd1be9b0-3626-4c8f-d6a6-3cf9f079b0aa"
      },
      "outputs": [
        {
          "output_type": "stream",
          "name": "stdout",
          "text": [
            "dime dos números enteros: \n",
            "numero 1: 3\n",
            "numero 2: 6\n",
            "el numero mayor es 6\n"
          ]
        }
      ],
      "source": [
        "print(\"dime dos números enteros: \")\n",
        "num1 = int(input(\"numero 1: \"))\n",
        "num2 = int(input(\"numero 2: \"))\n",
        "if num1 > num2:\n",
        "    print(f\"el numero mayor es {num1}\")\n",
        "if num2 > num1:\n",
        "    print(f\"el numero mayor es {num2}\")     "
      ]
    },
    {
      "cell_type": "markdown",
      "source": [
        "### 2.- Programa en Python Algoritmo que lea 4 calificaciones de un alumno, calcular y desplegar el promedio acompañado de la leyenda \"APROBADO\" o \"REPROBADO\""
      ],
      "metadata": {
        "id": "WeJ8yr-rUb3x"
      }
    },
    {
      "cell_type": "code",
      "source": [
        "calif1 = int(input(\"dime tu calificación: \"))\n",
        "calif2 = int(input(\"dime tu calificación: \"))\n",
        "calif3 = int(input(\"dime tu calificación: \"))\n",
        "calif4 = int(input(\"dime tu calificación: \"))\n",
        "\n",
        "promedio = (calif1 + calif2 + calif3 + calif4) / 4\n",
        "print(f\"tu promedio es: {promedio}\")\n",
        "if promedio >= 60:\n",
        "    print(\"APROBADO\")\n",
        "if promedio < 60:\n",
        "  print(\"REPROBADO\")      "
      ],
      "metadata": {
        "id": "eAy3NkTMUiNY",
        "colab": {
          "base_uri": "https://localhost:8080/"
        },
        "outputId": "7e792894-d468-4429-d3cd-4ee0ff0920e1"
      },
      "execution_count": 3,
      "outputs": [
        {
          "output_type": "stream",
          "name": "stdout",
          "text": [
            "dime tu calificación: 88\n",
            "dime tu calificación: 90\n",
            "dime tu calificación: 100\n",
            "dime tu calificación: 88\n",
            "tu promedio es: 91.5\n",
            "APROBADO\n"
          ]
        }
      ]
    },
    {
      "cell_type": "markdown",
      "source": [
        "### 3.- Programa en Python Algoritmo que a través de opciones (1.- HOMBRE 2.- MUJER ) preguntar al usuario cual es su sexo y desplegar la leyenda “HOMBRE ”, “MUJER”"
      ],
      "metadata": {
        "id": "E37gW_lfFCNW"
      }
    },
    {
      "cell_type": "code",
      "source": [
        "print(\"dime, cuál es tu sexo? \")\n",
        "print(\"1.-Hombre 2.-Mujer\")\n",
        "opcion1 = input(\" elija entre (1 o 2): \")\n",
        "if opcion1 == \"1\":\n",
        "    print(\"HOMBRE\")\n",
        "if opcion1 == \"2\":\n",
        "    print(\"MUJER\")    "
      ],
      "metadata": {
        "id": "TI6XqlgIFtBP",
        "outputId": "ee8458ef-b2b3-4bcf-9c45-5533619ca591",
        "colab": {
          "base_uri": "https://localhost:8080/"
        }
      },
      "execution_count": 5,
      "outputs": [
        {
          "output_type": "stream",
          "name": "stdout",
          "text": [
            "dime, cuál es tu sexo? \n",
            "1.-Hombre 2.-Mujer\n",
            " elija entre (1 o 2): 2\n",
            "MUJER\n"
          ]
        }
      ]
    },
    {
      "cell_type": "markdown",
      "source": [
        "### 4.- Programa en Python que lea un número entero, y desplegar si el número es “PAR” o “IMPAR”"
      ],
      "metadata": {
        "id": "UD9VF-hWI3EA"
      }
    },
    {
      "cell_type": "code",
      "source": [
        "num = float(input(\"dime un número entero: \"))\n",
        "residuo = num % 2\n",
        "if residuo == 0:\n",
        "    print(\"es PAR\")\n",
        "if residuo > 0:      \n",
        "    print(\"es IMPAR\")"
      ],
      "metadata": {
        "id": "yUk2p17wI_1a",
        "outputId": "2f13bd25-d15b-444b-dc63-2bc07ad9aef8",
        "colab": {
          "base_uri": "https://localhost:8080/"
        }
      },
      "execution_count": 29,
      "outputs": [
        {
          "output_type": "stream",
          "name": "stdout",
          "text": [
            "dime un número entero: 3\n",
            "es IMPAR\n"
          ]
        }
      ]
    },
    {
      "cell_type": "markdown",
      "source": [
        "### 5.- Programa en Python que lea 2 números enteros, usar una condición y analizar los dos números y desplegar cual de los números es el mayor."
      ],
      "metadata": {
        "id": "lbm3dV2CNwM-"
      }
    },
    {
      "cell_type": "code",
      "source": [
        "numero1 = int(input(\"dime un número entero: \"))\n",
        "numero2 = int(input(\"dime otro número entero: \"))\n",
        "if numero1 > numero2:\n",
        "    print(f\"el número mayor es: {numero1}\")\n",
        "else:\n",
        "    print(f\"el número mayor es: {numero2}\")"
      ],
      "metadata": {
        "id": "ZP7jVukhN4lY",
        "outputId": "add4da8a-ca09-4383-ecbb-6e807e1d0aef",
        "colab": {
          "base_uri": "https://localhost:8080/"
        }
      },
      "execution_count": 33,
      "outputs": [
        {
          "output_type": "stream",
          "name": "stdout",
          "text": [
            "dime un número entero: 3\n",
            "dime otro número entero: 6\n",
            "el número mayor es: 6\n"
          ]
        }
      ]
    },
    {
      "cell_type": "markdown",
      "source": [
        "### 6.- Programa en Python que lea 4 calificaciones de un alumno, calcular y desplegar el promedio acompañado de la leyenda APROBADO o REPROBADO"
      ],
      "metadata": {
        "id": "WAKyZsKYP-MY"
      }
    },
    {
      "cell_type": "code",
      "source": [
        "calif1 = int(input(\"dime tu calificación: \"))\n",
        "calif2 = int(input(\"dime tu calificación: \"))\n",
        "calif3 = int(input(\"dime tu calificación: \"))\n",
        "calif4 = int(input(\"dime tu calificación: \"))\n",
        "\n",
        "promedio = (calif1 + calif2 + calif3 + calif4) / 4\n",
        "print(f\"tu promedio es: {promedio}\")\n",
        "if promedio >= 60:\n",
        "    print(\"APROBADO\")\n",
        "else:\n",
        "  print(\"REPROBADO\")"
      ],
      "metadata": {
        "id": "5x6BqoEeQE9o",
        "outputId": "863e3edc-14f7-4044-f259-adcee88ca7e7",
        "colab": {
          "base_uri": "https://localhost:8080/"
        }
      },
      "execution_count": 34,
      "outputs": [
        {
          "output_type": "stream",
          "name": "stdout",
          "text": [
            "dime tu calificación: 88\n",
            "dime tu calificación: 90\n",
            "dime tu calificación: 100\n",
            "dime tu calificación: 87\n",
            "tu promedio es: 91.25\n",
            "APROBADO\n"
          ]
        }
      ]
    },
    {
      "cell_type": "markdown",
      "source": [
        "### 7.- Programa en Python que a través de opciones (1.- HOMBRE 2.- MUJER ) preguntar al usuario cuál es su sexo y desplegar la leyenda “HOMBRE ”, “MUJER”"
      ],
      "metadata": {
        "id": "uc_FZlIGQgDe"
      }
    },
    {
      "cell_type": "code",
      "source": [
        "print(\"dime, cuál es tu sexo? \")\n",
        "print(\"1.-Hombre 2.-Mujer\")\n",
        "opcion = input(\" elija entre (1 o 2): \")\n",
        "if opcion == \"1\":\n",
        "    print(\"usted es HOMBRE\")\n",
        "else:\n",
        "    print(\"usted es MUJER\")"
      ],
      "metadata": {
        "id": "Wnh7cqcpQq5a",
        "outputId": "5cfbec63-640c-4a92-ca6c-1bf38a885b99",
        "colab": {
          "base_uri": "https://localhost:8080/"
        }
      },
      "execution_count": 36,
      "outputs": [
        {
          "output_type": "stream",
          "name": "stdout",
          "text": [
            "dime, cuál es tu sexo? \n",
            "1.-Hombre 2.-Mujer\n",
            " elija entre (1 o 2): 1\n",
            "usted es HOMBRE\n"
          ]
        }
      ]
    },
    {
      "cell_type": "markdown",
      "source": [
        "### 8.- Programa en Python que lea un número entero, y desplegar si el número es “PAR” o “IMPAR”"
      ],
      "metadata": {
        "id": "nkx5TsDMRCRL"
      }
    },
    {
      "cell_type": "code",
      "source": [
        "num = float(input(\"dime un número entero: \"))\n",
        "residuo = num % 2\n",
        "if residuo == 0:\n",
        "    print(\"es PAR\")\n",
        "else:      \n",
        "    print(\"es IMPAR\")"
      ],
      "metadata": {
        "id": "mda4O7-RRLw6",
        "outputId": "8e1dc006-3f9e-4375-8183-83da4b92de3a",
        "colab": {
          "base_uri": "https://localhost:8080/"
        }
      },
      "execution_count": 38,
      "outputs": [
        {
          "output_type": "stream",
          "name": "stdout",
          "text": [
            "dime un número entero: 6\n",
            "es PAR\n"
          ]
        }
      ]
    }
  ]
}