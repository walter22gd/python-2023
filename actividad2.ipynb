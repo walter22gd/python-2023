{
  "nbformat": 4,
  "nbformat_minor": 0,
  "metadata": {
    "colab": {
      "provenance": [],
      "authorship_tag": "ABX9TyOElGIpG71L2JcohP754P3j",
      "include_colab_link": true
    },
    "kernelspec": {
      "name": "python3",
      "display_name": "Python 3"
    },
    "language_info": {
      "name": "python"
    }
  },
  "cells": [
    {
      "cell_type": "markdown",
      "metadata": {
        "id": "view-in-github",
        "colab_type": "text"
      },
      "source": [
        "<a href=\"https://colab.research.google.com/github/walter22gd/python-2023/blob/main/actividad2.ipynb\" target=\"_parent\"><img src=\"https://colab.research.google.com/assets/colab-badge.svg\" alt=\"Open In Colab\"/></a>"
      ]
    },
    {
      "cell_type": "markdown",
      "source": [
        "# Actividad 2 de Python."
      ],
      "metadata": {
        "id": "o3tFlr9vRkuq"
      }
    },
    {
      "cell_type": "markdown",
      "source": [
        "###1.- Programa en Python que lea 2 números enteros, usar una condición y analizar los dos números y desplegar cual de los números es el mayor. 1"
      ],
      "metadata": {
        "id": "Tl-Jy1fMRZAG"
      }
    },
    {
      "cell_type": "code",
      "execution_count": null,
      "metadata": {
        "colab": {
          "base_uri": "https://localhost:8080/"
        },
        "id": "l3mH9A4CQtvT",
        "outputId": "caaaa53d-0691-4c0e-bf88-b78323e62aa7"
      },
      "outputs": [
        {
          "output_type": "stream",
          "name": "stdout",
          "text": [
            "dime dos números enteros: \n",
            "numero 1: 3\n",
            "numero 2: 6\n",
            "el numero mayor es 6\n"
          ]
        }
      ],
      "source": [
        "print(\"dime dos números enteros: \")\n",
        "num1 = int(input(\"numero 1: \"))\n",
        "num2 = int(input(\"numero 2: \"))\n",
        "if num1 > num2:\n",
        "    print(f\"el numero mayor es {num1}\")\n",
        "if num2 > num1:\n",
        "    print(f\"el numero mayor es {num2}\")     "
      ]
    },
    {
      "cell_type": "markdown",
      "source": [
        "### 2.- Programa en Python Algoritmo que lea 4 calificaciones de un alumno, calcular y desplegar el promedio acompañado de la leyenda \"APROBADO\" o \"REPROBADO\""
      ],
      "metadata": {
        "id": "WeJ8yr-rUb3x"
      }
    },
    {
      "cell_type": "code",
      "source": [
        "calif1 = int(input(\"dime tu calificación: \"))\n",
        "calif2 = int(input(\"dime tu calificación: \"))\n",
        "calif3 = int(input(\"dime tu calificación: \"))\n",
        "calif4 = int(input(\"dime tu calificación: \"))\n",
        "\n",
        "promedio = (calif1 + calif2 + calif3 + calif4) / 4\n",
        "print(f\"tu promedio es: {promedio}\")\n",
        "if promedio >= 60:\n",
        "    print(\"APROBADO\")\n",
        "if promedio < 60:\n",
        "  print(\"REPROBADO\")      "
      ],
      "metadata": {
        "id": "eAy3NkTMUiNY",
        "colab": {
          "base_uri": "https://localhost:8080/"
        },
        "outputId": "b7169b9f-0efa-4e05-d6da-83e3ebf16ff9"
      },
      "execution_count": 1,
      "outputs": [
        {
          "output_type": "stream",
          "name": "stdout",
          "text": [
            "dime tu calificación: 87\n",
            "dime tu calificación: 90\n",
            "dime tu calificación: 100\n",
            "dime tu calificación: 88\n",
            "tu promedio es: 91.25\n",
            "APROBADO\n"
          ]
        }
      ]
    }
  ]
}