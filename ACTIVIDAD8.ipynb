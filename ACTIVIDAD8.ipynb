{
  "nbformat": 4,
  "nbformat_minor": 0,
  "metadata": {
    "colab": {
      "provenance": [],
      "include_colab_link": true
    },
    "kernelspec": {
      "name": "python3",
      "display_name": "Python 3"
    },
    "language_info": {
      "name": "python"
    }
  },
  "cells": [
    {
      "cell_type": "markdown",
      "metadata": {
        "id": "view-in-github",
        "colab_type": "text"
      },
      "source": [
        "<a href=\"https://colab.research.google.com/github/walter22gd/python-2023/blob/main/ACTIVIDAD8.ipynb\" target=\"_parent\"><img src=\"https://colab.research.google.com/assets/colab-badge.svg\" alt=\"Open In Colab\"/></a>"
      ]
    },
    {
      "cell_type": "code",
      "execution_count": null,
      "metadata": {
        "id": "BX8er90T9xaq"
      },
      "outputs": [],
      "source": [
        "#ACTIVIDAD 8\n",
        "from google.colab import drive\n",
        "from IPython.display import clear_output\n",
        "from kora import drive\n",
        "drive.link_nbs()\n",
        "from funciones import valinum_int\n",
        "import random "
      ]
    },
    {
      "cell_type": "code",
      "source": [
        "#1.- Programa en python que genere un número entre el 1 y 10 (no visible)  preguntarle al usuario que número cree que generó la computadora, el usuario tendrá 3 oportunidades de adivinar. \n",
        "#Decir si adivino o si falló en sus 3 intentos.\n",
        "def juego_numrand():\n",
        "    numcom = random.randint(1,10)\n",
        "    op = 1\n",
        "\n",
        "    ganado = 0\n",
        "    perdido = 0\n",
        "    while op != 2:\n",
        "        clear_output() \n",
        "        numcom = random.randint(1,10)\n",
        "        numusuar = valinum_int(\"Que numero crees que genero la computadora: \")\n",
        "        if numusuar == numcom:\n",
        "            print(f\"GANASTE, LE ATINASTE AL NUMERO\")\n",
        "            ganado += 1\n",
        "        else:\n",
        "            print(f\"FALLASTE, EL NUMERO ERA: {numcom}\")\n",
        "            perdido += 1\n",
        "        if perdido == 3:\n",
        "            print(\"PERDISTE 3 VECES, YA NO PUEDES JUGAR\")\n",
        "            break\n",
        "        op = valinum_int(\"DESEAS CONITNUAR JUGANDO? \\n 1.-SI 2.-NO \\n:\")\n",
        "    print(f\"Ganaste: {ganado} veces\")\n",
        "    print(f\"Perdiste: {perdido} veces\")"
      ],
      "metadata": {
        "id": "QGsi_b3c93b0"
      },
      "execution_count": null,
      "outputs": []
    },
    {
      "cell_type": "code",
      "source": [
        "#LISTA RANDOM VERSION A\n",
        "def listarand_vA():\n",
        "    lista = []\n",
        "\n",
        "    for i in range(10):\n",
        "        lista.append(0)\n",
        "    i = 1\n",
        "    while True:\n",
        "        pos = random.randint(0,9)\n",
        "        if lista[pos] == 0:\n",
        "            lista[pos] = i\n",
        "            i += 1\n",
        "        else:\n",
        "            continue\n",
        "        if i<= 10:\n",
        "            continue\n",
        "        break\n",
        "    return lista"
      ],
      "metadata": {
        "id": "UmfoNUewISsQ"
      },
      "execution_count": null,
      "outputs": []
    },
    {
      "cell_type": "code",
      "source": [
        "#LISTA RANDOM VERSION B\n",
        "def listarand_vB():\n",
        "    lista = []\n",
        "    lista = random.sample(range(1, 11), 10)\n",
        "    return lista"
      ],
      "metadata": {
        "id": "ZW2aBGjyHgNz"
      },
      "execution_count": null,
      "outputs": []
    },
    {
      "cell_type": "code",
      "source": [
        "#LISTA RANDOM VERSION C\n",
        "def listarand_vC():\n",
        "    lista = list(range(1,11))\n",
        "    random.shuffle(lista)\n",
        "    return lista"
      ],
      "metadata": {
        "id": "5leLfG_QntYz"
      },
      "execution_count": null,
      "outputs": []
    },
    {
      "cell_type": "code",
      "source": [
        "#JUEGO BUSCAR NUMERO\n",
        "def juego_buscarnumero():\n",
        "    lista = []\n",
        "    op = 1\n",
        "    ganado = 0\n",
        "    perdido = 0\n",
        "    while op != 2:\n",
        "        clear_output() \n",
        "        print(\"JUEGO DE BUSCAR EL NUMERO\")\n",
        "        print(\"1.-Lista random llenada con ciclos\")\n",
        "        print(\"2.-Lista random llenada con sample\")\n",
        "        print(\"3.-Lista random llenada con shuffle\")\n",
        "        op = valinum_int(\"Selecciona una opcion para generar la lista: \")\n",
        "        if op == 1:\n",
        "            lista = listarand_vA()\n",
        "        elif op == 2:\n",
        "            lista = listarand_vB()\n",
        "        elif op == 3:\n",
        "            lista = listarand_vC()\n",
        "        posreal = random.randint(0,9)\n",
        "        numadivinar = lista[posreal]\n",
        "        print(f\"El número que se genero es el {numadivinar}, intenta adivinar su posicion del 0 al 9\")\n",
        "        pos = valinum_int(\"En que posicion crees que esta el numero: \")\n",
        "        if lista[pos] == numadivinar:\n",
        "            print(\"GANASTE, EL NUMERO SI SE ENCUENTRA EN ESA POSICION!\")\n",
        "            print(\"  \",end=\"\")\n",
        "            for i in range(10):\n",
        "                print(f\" {i}\",end=\" \")\n",
        "            print(\"\\n\",lista)\n",
        "            ganado += 1\n",
        "        else:\n",
        "            print(f\"PERDISTE, EL NUMERO SE ENCUENTRA EN EL INDICE {posreal}, TIENES UN NUEVO INTENTO\")\n",
        "            print(\"  \",end=\"\")\n",
        "            for i in range(10):\n",
        "                print(f\" {i}\",end=\" \")\n",
        "            print(\"\\n\",lista)\n",
        "            perdido += 1\n",
        "        if perdido == 3:\n",
        "            print(\"PERDISTE 3 VECES, YA NO TE QUEDAN INTENTOS\")\n",
        "            break\n",
        "        op = valinum_int(\"DESEAS CONITNUAR JUGANDO? \\n 1.-SI 2.-NO \\n:\")\n",
        "    print(f\"Ganaste: {ganado} veces\")\n",
        "    print(f\"Perdiste: {perdido} veces\")"
      ],
      "metadata": {
        "id": "sGUHJt80uQsb"
      },
      "execution_count": null,
      "outputs": []
    },
    {
      "cell_type": "code",
      "source": [
        "def menu():\n",
        "    print(\"MENU:\")\n",
        "    print(\"1.-JUEGO ADIVINAR NUMERO\")\n",
        "    print(\"2.-JUEGO BUSCAR NUMERO EN UNA LISTA\")\n",
        "    print(\"0.-SALIR\")"
      ],
      "metadata": {
        "id": "39dXV7hQ7Kko"
      },
      "execution_count": null,
      "outputs": []
    },
    {
      "cell_type": "code",
      "source": [
        "#EJECUCION DE TODAS LAS FUNCIONES(MAIN)\n",
        "while True:\n",
        "    menu()\n",
        "    op = valinum_int(\"Ingresa la funcion que deseas utilizar: \")\n",
        "    if op == 1:\n",
        "        juego_numrand()\n",
        "        input(\"Presiona ENTER para borrar la pantalla\")\n",
        "        clear_output()\n",
        "        continue\n",
        "    elif op == 2:\n",
        "        juego_buscarnumero()\n",
        "        input(\"Presiona ENTER para borrar la pantalla\")\n",
        "        clear_output()\n",
        "        continue\n",
        "    elif op == 0:\n",
        "        break"
      ],
      "metadata": {
        "colab": {
          "base_uri": "https://localhost:8080/"
        },
        "id": "Unj2PU1C6bUp",
        "outputId": "018ca98f-80aa-44f9-ad50-a934e6c306bd"
      },
      "execution_count": null,
      "outputs": [
        {
          "output_type": "stream",
          "name": "stdout",
          "text": [
            "JUEGO DE BUSCAR EL NUMERO\n",
            "1.-Lista random llenada con ciclos\n",
            "2.-Lista random llenada con sample\n",
            "3.-Lista random llenada con shuffle\n",
            "Selecciona una opcion para generar la lista: 1\n",
            "El número que se genero es el 10, intenta adivinar su posicion del 0 al 9\n",
            "En que posicion crees que esta el numero: 6\n",
            "PERDISTE, EL NUMERO SE ENCUENTRA EN EL INDICE 8, TIENES UN NUEVO INTENTO\n",
            "   0  1  2  3  4  5  6  7  8  9 \n",
            " [4, 2, 5, 7, 6, 9, 8, 1, 10, 3]\n",
            "DESEAS CONITNUAR JUGANDO? \n",
            " 1.-SI 2.-NO \n",
            ":2\n",
            "Ganaste: 1 veces\n",
            "Perdiste: 1 veces\n"
          ]
        }
      ]
    }
  ]
}